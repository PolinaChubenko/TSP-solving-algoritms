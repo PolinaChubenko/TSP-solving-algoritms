{
 "cells": [
  {
   "cell_type": "markdown",
   "metadata": {
    "id": "BPeEof8hRhyT"
   },
   "source": [
    "Муравьиные алгоритмы\n"
   ]
  },
  {
   "cell_type": "code",
   "execution_count": 1,
   "metadata": {
    "scrolled": true
   },
   "outputs": [],
   "source": [
    "# import pandas as pd\n",
    "\n",
    "# df = pd.DataFrame(tsp.cities_to_dict().items(), columns=['name', 'coords'])\n",
    "# df[['x', 'y']] = pd.DataFrame(df.coords.tolist(), index=df.index)\n",
    "# df.drop(columns=['coords'], inplace=True)\n",
    "# df"
   ]
  },
  {
   "cell_type": "markdown",
   "metadata": {},
   "source": [
    "Сверху были тестовые данные. Теперь мы уже умеем работать с классом TSP"
   ]
  },
  {
   "cell_type": "code",
   "execution_count": 2,
   "metadata": {},
   "outputs": [
    {
     "data": {
      "text/html": [
       "<div>\n",
       "<style scoped>\n",
       "    .dataframe tbody tr th:only-of-type {\n",
       "        vertical-align: middle;\n",
       "    }\n",
       "\n",
       "    .dataframe tbody tr th {\n",
       "        vertical-align: top;\n",
       "    }\n",
       "\n",
       "    .dataframe thead th {\n",
       "        text-align: right;\n",
       "    }\n",
       "</style>\n",
       "<table border=\"1\" class=\"dataframe\">\n",
       "  <thead>\n",
       "    <tr style=\"text-align: right;\">\n",
       "      <th></th>\n",
       "      <th>name</th>\n",
       "      <th>x</th>\n",
       "      <th>y</th>\n",
       "    </tr>\n",
       "  </thead>\n",
       "  <tbody>\n",
       "    <tr>\n",
       "      <th>0</th>\n",
       "      <td>A</td>\n",
       "      <td>93</td>\n",
       "      <td>48</td>\n",
       "    </tr>\n",
       "    <tr>\n",
       "      <th>1</th>\n",
       "      <td>B</td>\n",
       "      <td>67</td>\n",
       "      <td>72</td>\n",
       "    </tr>\n",
       "    <tr>\n",
       "      <th>2</th>\n",
       "      <td>C</td>\n",
       "      <td>66</td>\n",
       "      <td>44</td>\n",
       "    </tr>\n",
       "    <tr>\n",
       "      <th>3</th>\n",
       "      <td>D</td>\n",
       "      <td>99</td>\n",
       "      <td>65</td>\n",
       "    </tr>\n",
       "    <tr>\n",
       "      <th>4</th>\n",
       "      <td>E</td>\n",
       "      <td>18</td>\n",
       "      <td>90</td>\n",
       "    </tr>\n",
       "    <tr>\n",
       "      <th>5</th>\n",
       "      <td>F</td>\n",
       "      <td>47</td>\n",
       "      <td>17</td>\n",
       "    </tr>\n",
       "    <tr>\n",
       "      <th>6</th>\n",
       "      <td>G</td>\n",
       "      <td>84</td>\n",
       "      <td>8</td>\n",
       "    </tr>\n",
       "    <tr>\n",
       "      <th>7</th>\n",
       "      <td>H</td>\n",
       "      <td>16</td>\n",
       "      <td>67</td>\n",
       "    </tr>\n",
       "    <tr>\n",
       "      <th>8</th>\n",
       "      <td>I</td>\n",
       "      <td>9</td>\n",
       "      <td>57</td>\n",
       "    </tr>\n",
       "    <tr>\n",
       "      <th>9</th>\n",
       "      <td>J</td>\n",
       "      <td>76</td>\n",
       "      <td>28</td>\n",
       "    </tr>\n",
       "    <tr>\n",
       "      <th>10</th>\n",
       "      <td>K</td>\n",
       "      <td>72</td>\n",
       "      <td>69</td>\n",
       "    </tr>\n",
       "    <tr>\n",
       "      <th>11</th>\n",
       "      <td>L</td>\n",
       "      <td>53</td>\n",
       "      <td>65</td>\n",
       "    </tr>\n",
       "    <tr>\n",
       "      <th>12</th>\n",
       "      <td>M</td>\n",
       "      <td>91</td>\n",
       "      <td>26</td>\n",
       "    </tr>\n",
       "    <tr>\n",
       "      <th>13</th>\n",
       "      <td>N</td>\n",
       "      <td>61</td>\n",
       "      <td>49</td>\n",
       "    </tr>\n",
       "    <tr>\n",
       "      <th>14</th>\n",
       "      <td>O</td>\n",
       "      <td>26</td>\n",
       "      <td>56</td>\n",
       "    </tr>\n",
       "    <tr>\n",
       "      <th>15</th>\n",
       "      <td>P</td>\n",
       "      <td>15</td>\n",
       "      <td>73</td>\n",
       "    </tr>\n",
       "  </tbody>\n",
       "</table>\n",
       "</div>"
      ],
      "text/plain": [
       "   name   x   y\n",
       "0     A  93  48\n",
       "1     B  67  72\n",
       "2     C  66  44\n",
       "3     D  99  65\n",
       "4     E  18  90\n",
       "5     F  47  17\n",
       "6     G  84   8\n",
       "7     H  16  67\n",
       "8     I   9  57\n",
       "9     J  76  28\n",
       "10    K  72  69\n",
       "11    L  53  65\n",
       "12    M  91  26\n",
       "13    N  61  49\n",
       "14    O  26  56\n",
       "15    P  15  73"
      ]
     },
     "execution_count": 2,
     "metadata": {},
     "output_type": "execute_result"
    }
   ],
   "source": [
    "import pandas as pd\n",
    "\n",
    "cities_df = pd.read_csv('tests/16cities_1.txt', sep=' ', header=None)\n",
    "cities_df.columns = ['name', 'x', 'y']\n",
    "\n",
    "cities_df"
   ]
  },
  {
   "cell_type": "code",
   "execution_count": 3,
   "metadata": {},
   "outputs": [],
   "source": [
    "from algorithms.ant import AntColony\n",
    "from tsp import TSP\n",
    "from typing import List"
   ]
  },
  {
   "cell_type": "code",
   "execution_count": 4,
   "metadata": {},
   "outputs": [],
   "source": [
    "cities: List[TSP.City] = []\n",
    "for _, row in cities_df.iterrows():\n",
    "    id, x, y = row['name'], row['x'], row['y']\n",
    "    cities.append(TSP.City(id, int(x), int(y)))\n",
    "\n",
    "tsp = TSP(cities)\n",
    "initial_state = TSP.State(1 << 0, 0)\n",
    "\n",
    "as_settings = AntColony.Settings()\n",
    "as_colony = AntColony(AntColony.Variation.ANT_SYSTEM, as_settings)"
   ]
  },
  {
   "cell_type": "code",
   "execution_count": 5,
   "metadata": {},
   "outputs": [
    {
     "name": "stdout",
     "output_type": "stream",
     "text": [
      "Rank-based Ant System:  [0, 3, 1, 10, 2, 13, 14, 8, 15, 7, 4, 11, 9, 12, 6, 5, 0] 402.94966134575435\n",
      "CPU times: user 1min, sys: 229 ms, total: 1min\n",
      "Wall time: 1min 1s\n"
     ]
    }
   ],
   "source": [
    "%%time\n",
    "path, dist = as_colony.solve(initial_state, tsp.successors, tsp.goal, tsp.add_generation)\n",
    "print(\"Rank-based Ant System: \", [p.current_node for p in path], dist)"
   ]
  },
  {
   "cell_type": "code",
   "execution_count": 9,
   "metadata": {
    "ExecuteTime": {
     "end_time": "2020-11-02T01:01:21.941173Z",
     "start_time": "2020-11-02T01:01:18.135337Z"
    },
    "id": "fxGOSRrPRX2_"
   },
   "outputs": [
    {
     "data": {
      "application/vnd.plotly.v1+json": {
       "config": {
        "plotlyServerURL": "https://plot.ly"
       },
       "data": [
        {
         "marker": {
          "color": "#5D69B1",
          "size": 10
         },
         "mode": "markers",
         "name": "Город",
         "text": [
          "Название: A",
          "Название: B",
          "Название: C",
          "Название: D",
          "Название: E",
          "Название: F",
          "Название: G",
          "Название: H",
          "Название: I",
          "Название: J",
          "Название: K",
          "Название: L",
          "Название: M",
          "Название: N",
          "Название: O",
          "Название: P"
         ],
         "type": "scatter",
         "x": [
          93,
          67,
          66,
          99,
          18,
          47,
          84,
          16,
          9,
          76,
          72,
          53,
          91,
          61,
          26,
          15
         ],
         "y": [
          48,
          72,
          44,
          65,
          90,
          17,
          8,
          67,
          57,
          28,
          69,
          65,
          26,
          49,
          56,
          73
         ]
        },
        {
         "mode": "lines",
         "name": "Маршрут",
         "type": "scatter",
         "x": [
          93,
          99,
          67,
          72,
          66,
          61,
          26,
          9,
          15,
          16,
          18,
          53,
          76,
          91,
          84,
          47,
          93
         ],
         "y": [
          48,
          65,
          72,
          69,
          44,
          49,
          56,
          57,
          73,
          67,
          90,
          65,
          28,
          26,
          8,
          17,
          48
         ]
        }
       ],
       "frames": [
        {
         "data": [
          {
           "marker": {
            "color": "#5D69B1",
            "size": 10
           },
           "mode": "markers",
           "name": "Город",
           "text": [
            "Название: A",
            "Название: B",
            "Название: C",
            "Название: D",
            "Название: E",
            "Название: F",
            "Название: G",
            "Название: H",
            "Название: I",
            "Название: J",
            "Название: K",
            "Название: L",
            "Название: M",
            "Название: N",
            "Название: O",
            "Название: P"
           ],
           "type": "scatter",
           "x": [
            93,
            67,
            66,
            99,
            18,
            47,
            84,
            16,
            9,
            76,
            72,
            53,
            91,
            61,
            26,
            15
           ],
           "y": [
            48,
            72,
            44,
            65,
            90,
            17,
            8,
            67,
            57,
            28,
            69,
            65,
            26,
            49,
            56,
            73
           ]
          },
          {
           "mode": "lines",
           "name": "Маршрут",
           "type": "scatter",
           "x": [
            93,
            53,
            61,
            66,
            18,
            67,
            72,
            99,
            91,
            76,
            26,
            47,
            9,
            15,
            16,
            84,
            93
           ],
           "y": [
            48,
            65,
            49,
            44,
            90,
            72,
            69,
            65,
            26,
            28,
            56,
            17,
            57,
            73,
            67,
            8,
            48
           ]
          }
         ],
         "layout": {
          "title": {
           "text": "Маршрут, найденный муравьиным алгоритмом за 1 шагов, длина маршрута = 586.1489615211168"
          },
          "updatemenus": [
           {
            "buttons": [
             {
              "args": [
               null,
               {
                "frame": {
                 "duration": 180
                }
               }
              ],
              "label": "Запустить",
              "method": "animate"
             }
            ],
            "type": "buttons"
           }
          ]
         }
        },
        {
         "data": [
          {
           "marker": {
            "color": "#5D69B1",
            "size": 10
           },
           "mode": "markers",
           "name": "Город",
           "text": [
            "Название: A",
            "Название: B",
            "Название: C",
            "Название: D",
            "Название: E",
            "Название: F",
            "Название: G",
            "Название: H",
            "Название: I",
            "Название: J",
            "Название: K",
            "Название: L",
            "Название: M",
            "Название: N",
            "Название: O",
            "Название: P"
           ],
           "type": "scatter",
           "x": [
            93,
            67,
            66,
            99,
            18,
            47,
            84,
            16,
            9,
            76,
            72,
            53,
            91,
            61,
            26,
            15
           ],
           "y": [
            48,
            72,
            44,
            65,
            90,
            17,
            8,
            67,
            57,
            28,
            69,
            65,
            26,
            49,
            56,
            73
           ]
          },
          {
           "mode": "lines",
           "name": "Маршрут",
           "type": "scatter",
           "x": [
            93,
            99,
            91,
            47,
            76,
            66,
            61,
            18,
            67,
            53,
            9,
            16,
            15,
            26,
            84,
            72,
            93
           ],
           "y": [
            48,
            65,
            26,
            17,
            28,
            44,
            49,
            90,
            72,
            65,
            57,
            67,
            73,
            56,
            8,
            69,
            48
           ]
          }
         ],
         "layout": {
          "title": {
           "text": "Маршрут, найденный муравьиным алгоритмом за 2 шагов, длина маршрута = 537.3866687150356"
          },
          "updatemenus": [
           {
            "buttons": [
             {
              "args": [
               null,
               {
                "frame": {
                 "duration": 180
                }
               }
              ],
              "label": "Запустить",
              "method": "animate"
             }
            ],
            "type": "buttons"
           }
          ]
         }
        },
        {
         "data": [
          {
           "marker": {
            "color": "#5D69B1",
            "size": 10
           },
           "mode": "markers",
           "name": "Город",
           "text": [
            "Название: A",
            "Название: B",
            "Название: C",
            "Название: D",
            "Название: E",
            "Название: F",
            "Название: G",
            "Название: H",
            "Название: I",
            "Название: J",
            "Название: K",
            "Название: L",
            "Название: M",
            "Название: N",
            "Название: O",
            "Название: P"
           ],
           "type": "scatter",
           "x": [
            93,
            67,
            66,
            99,
            18,
            47,
            84,
            16,
            9,
            76,
            72,
            53,
            91,
            61,
            26,
            15
           ],
           "y": [
            48,
            72,
            44,
            65,
            90,
            17,
            8,
            67,
            57,
            28,
            69,
            65,
            26,
            49,
            56,
            73
           ]
          },
          {
           "mode": "lines",
           "name": "Маршрут",
           "type": "scatter",
           "x": [
            93,
            99,
            15,
            16,
            26,
            18,
            9,
            47,
            84,
            72,
            61,
            91,
            76,
            66,
            53,
            67,
            93
           ],
           "y": [
            48,
            65,
            73,
            67,
            56,
            90,
            57,
            17,
            8,
            69,
            49,
            26,
            28,
            44,
            65,
            72,
            48
           ]
          }
         ],
         "layout": {
          "title": {
           "text": "Маршрут, найденный муравьиным алгоритмом за 3 шагов, длина маршрута = 518.2734027526021"
          },
          "updatemenus": [
           {
            "buttons": [
             {
              "args": [
               null,
               {
                "frame": {
                 "duration": 180
                }
               }
              ],
              "label": "Запустить",
              "method": "animate"
             }
            ],
            "type": "buttons"
           }
          ]
         }
        },
        {
         "data": [
          {
           "marker": {
            "color": "#5D69B1",
            "size": 10
           },
           "mode": "markers",
           "name": "Город",
           "text": [
            "Название: A",
            "Название: B",
            "Название: C",
            "Название: D",
            "Название: E",
            "Название: F",
            "Название: G",
            "Название: H",
            "Название: I",
            "Название: J",
            "Название: K",
            "Название: L",
            "Название: M",
            "Название: N",
            "Название: O",
            "Название: P"
           ],
           "type": "scatter",
           "x": [
            93,
            67,
            66,
            99,
            18,
            47,
            84,
            16,
            9,
            76,
            72,
            53,
            91,
            61,
            26,
            15
           ],
           "y": [
            48,
            72,
            44,
            65,
            90,
            17,
            8,
            67,
            57,
            28,
            69,
            65,
            26,
            49,
            56,
            73
           ]
          },
          {
           "mode": "lines",
           "name": "Маршрут",
           "type": "scatter",
           "x": [
            93,
            99,
            67,
            72,
            66,
            61,
            53,
            16,
            15,
            18,
            47,
            84,
            76,
            91,
            9,
            26,
            93
           ],
           "y": [
            48,
            65,
            72,
            69,
            44,
            49,
            65,
            67,
            73,
            90,
            17,
            8,
            28,
            26,
            57,
            56,
            48
           ]
          }
         ],
         "layout": {
          "title": {
           "text": "Маршрут, найденный муравьиным алгоритмом за 4 шагов, длина маршрута = 493.15543056388975"
          },
          "updatemenus": [
           {
            "buttons": [
             {
              "args": [
               null,
               {
                "frame": {
                 "duration": 180
                }
               }
              ],
              "label": "Запустить",
              "method": "animate"
             }
            ],
            "type": "buttons"
           }
          ]
         }
        },
        {
         "data": [
          {
           "marker": {
            "color": "#5D69B1",
            "size": 10
           },
           "mode": "markers",
           "name": "Город",
           "text": [
            "Название: A",
            "Название: B",
            "Название: C",
            "Название: D",
            "Название: E",
            "Название: F",
            "Название: G",
            "Название: H",
            "Название: I",
            "Название: J",
            "Название: K",
            "Название: L",
            "Название: M",
            "Название: N",
            "Название: O",
            "Название: P"
           ],
           "type": "scatter",
           "x": [
            93,
            67,
            66,
            99,
            18,
            47,
            84,
            16,
            9,
            76,
            72,
            53,
            91,
            61,
            26,
            15
           ],
           "y": [
            48,
            72,
            44,
            65,
            90,
            17,
            8,
            67,
            57,
            28,
            69,
            65,
            26,
            49,
            56,
            73
           ]
          },
          {
           "mode": "lines",
           "name": "Маршрут",
           "type": "scatter",
           "x": [
            93,
            91,
            76,
            67,
            72,
            66,
            84,
            47,
            61,
            53,
            9,
            16,
            15,
            26,
            18,
            99,
            93
           ],
           "y": [
            48,
            26,
            28,
            72,
            69,
            44,
            8,
            17,
            49,
            65,
            57,
            67,
            73,
            56,
            90,
            65,
            48
           ]
          }
         ],
         "layout": {
          "title": {
           "text": "Маршрут, найденный муравьиным алгоритмом за 5 шагов, длина маршрута = 465.8061616351388"
          },
          "updatemenus": [
           {
            "buttons": [
             {
              "args": [
               null,
               {
                "frame": {
                 "duration": 180
                }
               }
              ],
              "label": "Запустить",
              "method": "animate"
             }
            ],
            "type": "buttons"
           }
          ]
         }
        },
        {
         "data": [
          {
           "marker": {
            "color": "#5D69B1",
            "size": 10
           },
           "mode": "markers",
           "name": "Город",
           "text": [
            "Название: A",
            "Название: B",
            "Название: C",
            "Название: D",
            "Название: E",
            "Название: F",
            "Название: G",
            "Название: H",
            "Название: I",
            "Название: J",
            "Название: K",
            "Название: L",
            "Название: M",
            "Название: N",
            "Название: O",
            "Название: P"
           ],
           "type": "scatter",
           "x": [
            93,
            67,
            66,
            99,
            18,
            47,
            84,
            16,
            9,
            76,
            72,
            53,
            91,
            61,
            26,
            15
           ],
           "y": [
            48,
            72,
            44,
            65,
            90,
            17,
            8,
            67,
            57,
            28,
            69,
            65,
            26,
            49,
            56,
            73
           ]
          },
          {
           "mode": "lines",
           "name": "Маршрут",
           "type": "scatter",
           "x": [
            93,
            91,
            76,
            84,
            66,
            53,
            72,
            67,
            61,
            9,
            16,
            15,
            18,
            26,
            47,
            99,
            93
           ],
           "y": [
            48,
            26,
            28,
            8,
            44,
            65,
            69,
            72,
            49,
            57,
            67,
            73,
            90,
            56,
            17,
            65,
            48
           ]
          }
         ],
         "layout": {
          "title": {
           "text": "Маршрут, найденный муравьиным алгоритмом за 6 шагов, длина маршрута = 428.9104256630998"
          },
          "updatemenus": [
           {
            "buttons": [
             {
              "args": [
               null,
               {
                "frame": {
                 "duration": 180
                }
               }
              ],
              "label": "Запустить",
              "method": "animate"
             }
            ],
            "type": "buttons"
           }
          ]
         }
        },
        {
         "data": [
          {
           "marker": {
            "color": "#5D69B1",
            "size": 10
           },
           "mode": "markers",
           "name": "Город",
           "text": [
            "Название: A",
            "Название: B",
            "Название: C",
            "Название: D",
            "Название: E",
            "Название: F",
            "Название: G",
            "Название: H",
            "Название: I",
            "Название: J",
            "Название: K",
            "Название: L",
            "Название: M",
            "Название: N",
            "Название: O",
            "Название: P"
           ],
           "type": "scatter",
           "x": [
            93,
            67,
            66,
            99,
            18,
            47,
            84,
            16,
            9,
            76,
            72,
            53,
            91,
            61,
            26,
            15
           ],
           "y": [
            48,
            72,
            44,
            65,
            90,
            17,
            8,
            67,
            57,
            28,
            69,
            65,
            26,
            49,
            56,
            73
           ]
          },
          {
           "mode": "lines",
           "name": "Маршрут",
           "type": "scatter",
           "x": [
            93,
            99,
            67,
            72,
            66,
            61,
            26,
            9,
            15,
            16,
            18,
            53,
            76,
            91,
            84,
            47,
            93
           ],
           "y": [
            48,
            65,
            72,
            69,
            44,
            49,
            56,
            57,
            73,
            67,
            90,
            65,
            28,
            26,
            8,
            17,
            48
           ]
          }
         ],
         "layout": {
          "title": {
           "text": "Маршрут, найденный муравьиным алгоритмом за 7 шагов, длина маршрута = 402.94966134575435"
          },
          "updatemenus": [
           {
            "buttons": [
             {
              "args": [
               null,
               {
                "frame": {
                 "duration": 180
                }
               }
              ],
              "label": "Запустить",
              "method": "animate"
             }
            ],
            "type": "buttons"
           }
          ]
         }
        }
       ],
       "layout": {
        "template": {
         "data": {
          "bar": [
           {
            "error_x": {
             "color": "#2a3f5f"
            },
            "error_y": {
             "color": "#2a3f5f"
            },
            "marker": {
             "line": {
              "color": "#E5ECF6",
              "width": 0.5
             },
             "pattern": {
              "fillmode": "overlay",
              "size": 10,
              "solidity": 0.2
             }
            },
            "type": "bar"
           }
          ],
          "barpolar": [
           {
            "marker": {
             "line": {
              "color": "#E5ECF6",
              "width": 0.5
             },
             "pattern": {
              "fillmode": "overlay",
              "size": 10,
              "solidity": 0.2
             }
            },
            "type": "barpolar"
           }
          ],
          "carpet": [
           {
            "aaxis": {
             "endlinecolor": "#2a3f5f",
             "gridcolor": "white",
             "linecolor": "white",
             "minorgridcolor": "white",
             "startlinecolor": "#2a3f5f"
            },
            "baxis": {
             "endlinecolor": "#2a3f5f",
             "gridcolor": "white",
             "linecolor": "white",
             "minorgridcolor": "white",
             "startlinecolor": "#2a3f5f"
            },
            "type": "carpet"
           }
          ],
          "choropleth": [
           {
            "colorbar": {
             "outlinewidth": 0,
             "ticks": ""
            },
            "type": "choropleth"
           }
          ],
          "contour": [
           {
            "colorbar": {
             "outlinewidth": 0,
             "ticks": ""
            },
            "colorscale": [
             [
              0,
              "#0d0887"
             ],
             [
              0.1111111111111111,
              "#46039f"
             ],
             [
              0.2222222222222222,
              "#7201a8"
             ],
             [
              0.3333333333333333,
              "#9c179e"
             ],
             [
              0.4444444444444444,
              "#bd3786"
             ],
             [
              0.5555555555555556,
              "#d8576b"
             ],
             [
              0.6666666666666666,
              "#ed7953"
             ],
             [
              0.7777777777777778,
              "#fb9f3a"
             ],
             [
              0.8888888888888888,
              "#fdca26"
             ],
             [
              1,
              "#f0f921"
             ]
            ],
            "type": "contour"
           }
          ],
          "contourcarpet": [
           {
            "colorbar": {
             "outlinewidth": 0,
             "ticks": ""
            },
            "type": "contourcarpet"
           }
          ],
          "heatmap": [
           {
            "colorbar": {
             "outlinewidth": 0,
             "ticks": ""
            },
            "colorscale": [
             [
              0,
              "#0d0887"
             ],
             [
              0.1111111111111111,
              "#46039f"
             ],
             [
              0.2222222222222222,
              "#7201a8"
             ],
             [
              0.3333333333333333,
              "#9c179e"
             ],
             [
              0.4444444444444444,
              "#bd3786"
             ],
             [
              0.5555555555555556,
              "#d8576b"
             ],
             [
              0.6666666666666666,
              "#ed7953"
             ],
             [
              0.7777777777777778,
              "#fb9f3a"
             ],
             [
              0.8888888888888888,
              "#fdca26"
             ],
             [
              1,
              "#f0f921"
             ]
            ],
            "type": "heatmap"
           }
          ],
          "heatmapgl": [
           {
            "colorbar": {
             "outlinewidth": 0,
             "ticks": ""
            },
            "colorscale": [
             [
              0,
              "#0d0887"
             ],
             [
              0.1111111111111111,
              "#46039f"
             ],
             [
              0.2222222222222222,
              "#7201a8"
             ],
             [
              0.3333333333333333,
              "#9c179e"
             ],
             [
              0.4444444444444444,
              "#bd3786"
             ],
             [
              0.5555555555555556,
              "#d8576b"
             ],
             [
              0.6666666666666666,
              "#ed7953"
             ],
             [
              0.7777777777777778,
              "#fb9f3a"
             ],
             [
              0.8888888888888888,
              "#fdca26"
             ],
             [
              1,
              "#f0f921"
             ]
            ],
            "type": "heatmapgl"
           }
          ],
          "histogram": [
           {
            "marker": {
             "pattern": {
              "fillmode": "overlay",
              "size": 10,
              "solidity": 0.2
             }
            },
            "type": "histogram"
           }
          ],
          "histogram2d": [
           {
            "colorbar": {
             "outlinewidth": 0,
             "ticks": ""
            },
            "colorscale": [
             [
              0,
              "#0d0887"
             ],
             [
              0.1111111111111111,
              "#46039f"
             ],
             [
              0.2222222222222222,
              "#7201a8"
             ],
             [
              0.3333333333333333,
              "#9c179e"
             ],
             [
              0.4444444444444444,
              "#bd3786"
             ],
             [
              0.5555555555555556,
              "#d8576b"
             ],
             [
              0.6666666666666666,
              "#ed7953"
             ],
             [
              0.7777777777777778,
              "#fb9f3a"
             ],
             [
              0.8888888888888888,
              "#fdca26"
             ],
             [
              1,
              "#f0f921"
             ]
            ],
            "type": "histogram2d"
           }
          ],
          "histogram2dcontour": [
           {
            "colorbar": {
             "outlinewidth": 0,
             "ticks": ""
            },
            "colorscale": [
             [
              0,
              "#0d0887"
             ],
             [
              0.1111111111111111,
              "#46039f"
             ],
             [
              0.2222222222222222,
              "#7201a8"
             ],
             [
              0.3333333333333333,
              "#9c179e"
             ],
             [
              0.4444444444444444,
              "#bd3786"
             ],
             [
              0.5555555555555556,
              "#d8576b"
             ],
             [
              0.6666666666666666,
              "#ed7953"
             ],
             [
              0.7777777777777778,
              "#fb9f3a"
             ],
             [
              0.8888888888888888,
              "#fdca26"
             ],
             [
              1,
              "#f0f921"
             ]
            ],
            "type": "histogram2dcontour"
           }
          ],
          "mesh3d": [
           {
            "colorbar": {
             "outlinewidth": 0,
             "ticks": ""
            },
            "type": "mesh3d"
           }
          ],
          "parcoords": [
           {
            "line": {
             "colorbar": {
              "outlinewidth": 0,
              "ticks": ""
             }
            },
            "type": "parcoords"
           }
          ],
          "pie": [
           {
            "automargin": true,
            "type": "pie"
           }
          ],
          "scatter": [
           {
            "fillpattern": {
             "fillmode": "overlay",
             "size": 10,
             "solidity": 0.2
            },
            "type": "scatter"
           }
          ],
          "scatter3d": [
           {
            "line": {
             "colorbar": {
              "outlinewidth": 0,
              "ticks": ""
             }
            },
            "marker": {
             "colorbar": {
              "outlinewidth": 0,
              "ticks": ""
             }
            },
            "type": "scatter3d"
           }
          ],
          "scattercarpet": [
           {
            "marker": {
             "colorbar": {
              "outlinewidth": 0,
              "ticks": ""
             }
            },
            "type": "scattercarpet"
           }
          ],
          "scattergeo": [
           {
            "marker": {
             "colorbar": {
              "outlinewidth": 0,
              "ticks": ""
             }
            },
            "type": "scattergeo"
           }
          ],
          "scattergl": [
           {
            "marker": {
             "colorbar": {
              "outlinewidth": 0,
              "ticks": ""
             }
            },
            "type": "scattergl"
           }
          ],
          "scattermapbox": [
           {
            "marker": {
             "colorbar": {
              "outlinewidth": 0,
              "ticks": ""
             }
            },
            "type": "scattermapbox"
           }
          ],
          "scatterpolar": [
           {
            "marker": {
             "colorbar": {
              "outlinewidth": 0,
              "ticks": ""
             }
            },
            "type": "scatterpolar"
           }
          ],
          "scatterpolargl": [
           {
            "marker": {
             "colorbar": {
              "outlinewidth": 0,
              "ticks": ""
             }
            },
            "type": "scatterpolargl"
           }
          ],
          "scatterternary": [
           {
            "marker": {
             "colorbar": {
              "outlinewidth": 0,
              "ticks": ""
             }
            },
            "type": "scatterternary"
           }
          ],
          "surface": [
           {
            "colorbar": {
             "outlinewidth": 0,
             "ticks": ""
            },
            "colorscale": [
             [
              0,
              "#0d0887"
             ],
             [
              0.1111111111111111,
              "#46039f"
             ],
             [
              0.2222222222222222,
              "#7201a8"
             ],
             [
              0.3333333333333333,
              "#9c179e"
             ],
             [
              0.4444444444444444,
              "#bd3786"
             ],
             [
              0.5555555555555556,
              "#d8576b"
             ],
             [
              0.6666666666666666,
              "#ed7953"
             ],
             [
              0.7777777777777778,
              "#fb9f3a"
             ],
             [
              0.8888888888888888,
              "#fdca26"
             ],
             [
              1,
              "#f0f921"
             ]
            ],
            "type": "surface"
           }
          ],
          "table": [
           {
            "cells": {
             "fill": {
              "color": "#EBF0F8"
             },
             "line": {
              "color": "white"
             }
            },
            "header": {
             "fill": {
              "color": "#C8D4E3"
             },
             "line": {
              "color": "white"
             }
            },
            "type": "table"
           }
          ]
         },
         "layout": {
          "annotationdefaults": {
           "arrowcolor": "#2a3f5f",
           "arrowhead": 0,
           "arrowwidth": 1
          },
          "autotypenumbers": "strict",
          "coloraxis": {
           "colorbar": {
            "outlinewidth": 0,
            "ticks": ""
           }
          },
          "colorscale": {
           "diverging": [
            [
             0,
             "#8e0152"
            ],
            [
             0.1,
             "#c51b7d"
            ],
            [
             0.2,
             "#de77ae"
            ],
            [
             0.3,
             "#f1b6da"
            ],
            [
             0.4,
             "#fde0ef"
            ],
            [
             0.5,
             "#f7f7f7"
            ],
            [
             0.6,
             "#e6f5d0"
            ],
            [
             0.7,
             "#b8e186"
            ],
            [
             0.8,
             "#7fbc41"
            ],
            [
             0.9,
             "#4d9221"
            ],
            [
             1,
             "#276419"
            ]
           ],
           "sequential": [
            [
             0,
             "#0d0887"
            ],
            [
             0.1111111111111111,
             "#46039f"
            ],
            [
             0.2222222222222222,
             "#7201a8"
            ],
            [
             0.3333333333333333,
             "#9c179e"
            ],
            [
             0.4444444444444444,
             "#bd3786"
            ],
            [
             0.5555555555555556,
             "#d8576b"
            ],
            [
             0.6666666666666666,
             "#ed7953"
            ],
            [
             0.7777777777777778,
             "#fb9f3a"
            ],
            [
             0.8888888888888888,
             "#fdca26"
            ],
            [
             1,
             "#f0f921"
            ]
           ],
           "sequentialminus": [
            [
             0,
             "#0d0887"
            ],
            [
             0.1111111111111111,
             "#46039f"
            ],
            [
             0.2222222222222222,
             "#7201a8"
            ],
            [
             0.3333333333333333,
             "#9c179e"
            ],
            [
             0.4444444444444444,
             "#bd3786"
            ],
            [
             0.5555555555555556,
             "#d8576b"
            ],
            [
             0.6666666666666666,
             "#ed7953"
            ],
            [
             0.7777777777777778,
             "#fb9f3a"
            ],
            [
             0.8888888888888888,
             "#fdca26"
            ],
            [
             1,
             "#f0f921"
            ]
           ]
          },
          "colorway": [
           "#636efa",
           "#EF553B",
           "#00cc96",
           "#ab63fa",
           "#FFA15A",
           "#19d3f3",
           "#FF6692",
           "#B6E880",
           "#FF97FF",
           "#FECB52"
          ],
          "font": {
           "color": "#2a3f5f"
          },
          "geo": {
           "bgcolor": "white",
           "lakecolor": "white",
           "landcolor": "#E5ECF6",
           "showlakes": true,
           "showland": true,
           "subunitcolor": "white"
          },
          "hoverlabel": {
           "align": "left"
          },
          "hovermode": "closest",
          "mapbox": {
           "style": "light"
          },
          "paper_bgcolor": "white",
          "plot_bgcolor": "#E5ECF6",
          "polar": {
           "angularaxis": {
            "gridcolor": "white",
            "linecolor": "white",
            "ticks": ""
           },
           "bgcolor": "#E5ECF6",
           "radialaxis": {
            "gridcolor": "white",
            "linecolor": "white",
            "ticks": ""
           }
          },
          "scene": {
           "xaxis": {
            "backgroundcolor": "#E5ECF6",
            "gridcolor": "white",
            "gridwidth": 2,
            "linecolor": "white",
            "showbackground": true,
            "ticks": "",
            "zerolinecolor": "white"
           },
           "yaxis": {
            "backgroundcolor": "#E5ECF6",
            "gridcolor": "white",
            "gridwidth": 2,
            "linecolor": "white",
            "showbackground": true,
            "ticks": "",
            "zerolinecolor": "white"
           },
           "zaxis": {
            "backgroundcolor": "#E5ECF6",
            "gridcolor": "white",
            "gridwidth": 2,
            "linecolor": "white",
            "showbackground": true,
            "ticks": "",
            "zerolinecolor": "white"
           }
          },
          "shapedefaults": {
           "line": {
            "color": "#2a3f5f"
           }
          },
          "ternary": {
           "aaxis": {
            "gridcolor": "white",
            "linecolor": "white",
            "ticks": ""
           },
           "baxis": {
            "gridcolor": "white",
            "linecolor": "white",
            "ticks": ""
           },
           "bgcolor": "#E5ECF6",
           "caxis": {
            "gridcolor": "white",
            "linecolor": "white",
            "ticks": ""
           }
          },
          "title": {
           "x": 0.05
          },
          "xaxis": {
           "automargin": true,
           "gridcolor": "white",
           "linecolor": "white",
           "ticks": "",
           "title": {
            "standoff": 15
           },
           "zerolinecolor": "white",
           "zerolinewidth": 2
          },
          "yaxis": {
           "automargin": true,
           "gridcolor": "white",
           "linecolor": "white",
           "ticks": "",
           "title": {
            "standoff": 15
           },
           "zerolinecolor": "white",
           "zerolinewidth": 2
          }
         }
        },
        "title": {
         "text": "Маршрут, найденный муравьиным алгоритмом за 7 шагов, длина маршрута = 402.94966134575435"
        },
        "updatemenus": [
         {
          "buttons": [
           {
            "args": [
             null,
             {
              "frame": {
               "duration": 180
              }
             }
            ],
            "label": "Запустить",
            "method": "animate"
           }
          ],
          "type": "buttons"
         }
        ]
       }
      },
      "text/html": [
       "<div>                            <div id=\"5b0b5485-a8c3-4039-8dad-ad67468e90c4\" class=\"plotly-graph-div\" style=\"height:525px; width:100%;\"></div>            <script type=\"text/javascript\">                require([\"plotly\"], function(Plotly) {                    window.PLOTLYENV=window.PLOTLYENV || {};                                    if (document.getElementById(\"5b0b5485-a8c3-4039-8dad-ad67468e90c4\")) {                    Plotly.newPlot(                        \"5b0b5485-a8c3-4039-8dad-ad67468e90c4\",                        [{\"marker\":{\"color\":\"#5D69B1\",\"size\":10},\"mode\":\"markers\",\"name\":\"\\u0413\\u043e\\u0440\\u043e\\u0434\",\"text\":[\"\\u041d\\u0430\\u0437\\u0432\\u0430\\u043d\\u0438\\u0435: A\",\"\\u041d\\u0430\\u0437\\u0432\\u0430\\u043d\\u0438\\u0435: B\",\"\\u041d\\u0430\\u0437\\u0432\\u0430\\u043d\\u0438\\u0435: C\",\"\\u041d\\u0430\\u0437\\u0432\\u0430\\u043d\\u0438\\u0435: D\",\"\\u041d\\u0430\\u0437\\u0432\\u0430\\u043d\\u0438\\u0435: E\",\"\\u041d\\u0430\\u0437\\u0432\\u0430\\u043d\\u0438\\u0435: F\",\"\\u041d\\u0430\\u0437\\u0432\\u0430\\u043d\\u0438\\u0435: G\",\"\\u041d\\u0430\\u0437\\u0432\\u0430\\u043d\\u0438\\u0435: H\",\"\\u041d\\u0430\\u0437\\u0432\\u0430\\u043d\\u0438\\u0435: I\",\"\\u041d\\u0430\\u0437\\u0432\\u0430\\u043d\\u0438\\u0435: J\",\"\\u041d\\u0430\\u0437\\u0432\\u0430\\u043d\\u0438\\u0435: K\",\"\\u041d\\u0430\\u0437\\u0432\\u0430\\u043d\\u0438\\u0435: L\",\"\\u041d\\u0430\\u0437\\u0432\\u0430\\u043d\\u0438\\u0435: M\",\"\\u041d\\u0430\\u0437\\u0432\\u0430\\u043d\\u0438\\u0435: N\",\"\\u041d\\u0430\\u0437\\u0432\\u0430\\u043d\\u0438\\u0435: O\",\"\\u041d\\u0430\\u0437\\u0432\\u0430\\u043d\\u0438\\u0435: P\"],\"x\":[93,67,66,99,18,47,84,16,9,76,72,53,91,61,26,15],\"y\":[48,72,44,65,90,17,8,67,57,28,69,65,26,49,56,73],\"type\":\"scatter\"},{\"mode\":\"lines\",\"name\":\"\\u041c\\u0430\\u0440\\u0448\\u0440\\u0443\\u0442\",\"x\":[93,99,67,72,66,61,26,9,15,16,18,53,76,91,84,47,93],\"y\":[48,65,72,69,44,49,56,57,73,67,90,65,28,26,8,17,48],\"type\":\"scatter\"}],                        {\"title\":{\"text\":\"\\u041c\\u0430\\u0440\\u0448\\u0440\\u0443\\u0442, \\u043d\\u0430\\u0439\\u0434\\u0435\\u043d\\u043d\\u044b\\u0439 \\u043c\\u0443\\u0440\\u0430\\u0432\\u044c\\u0438\\u043d\\u044b\\u043c \\u0430\\u043b\\u0433\\u043e\\u0440\\u0438\\u0442\\u043c\\u043e\\u043c \\u0437\\u0430 7 \\u0448\\u0430\\u0433\\u043e\\u0432, \\u0434\\u043b\\u0438\\u043d\\u0430 \\u043c\\u0430\\u0440\\u0448\\u0440\\u0443\\u0442\\u0430 = 402.94966134575435\"},\"updatemenus\":[{\"buttons\":[{\"args\":[null,{\"frame\":{\"duration\":180}}],\"label\":\"\\u0417\\u0430\\u043f\\u0443\\u0441\\u0442\\u0438\\u0442\\u044c\",\"method\":\"animate\"}],\"type\":\"buttons\"}],\"template\":{\"data\":{\"histogram2dcontour\":[{\"type\":\"histogram2dcontour\",\"colorbar\":{\"outlinewidth\":0,\"ticks\":\"\"},\"colorscale\":[[0.0,\"#0d0887\"],[0.1111111111111111,\"#46039f\"],[0.2222222222222222,\"#7201a8\"],[0.3333333333333333,\"#9c179e\"],[0.4444444444444444,\"#bd3786\"],[0.5555555555555556,\"#d8576b\"],[0.6666666666666666,\"#ed7953\"],[0.7777777777777778,\"#fb9f3a\"],[0.8888888888888888,\"#fdca26\"],[1.0,\"#f0f921\"]]}],\"choropleth\":[{\"type\":\"choropleth\",\"colorbar\":{\"outlinewidth\":0,\"ticks\":\"\"}}],\"histogram2d\":[{\"type\":\"histogram2d\",\"colorbar\":{\"outlinewidth\":0,\"ticks\":\"\"},\"colorscale\":[[0.0,\"#0d0887\"],[0.1111111111111111,\"#46039f\"],[0.2222222222222222,\"#7201a8\"],[0.3333333333333333,\"#9c179e\"],[0.4444444444444444,\"#bd3786\"],[0.5555555555555556,\"#d8576b\"],[0.6666666666666666,\"#ed7953\"],[0.7777777777777778,\"#fb9f3a\"],[0.8888888888888888,\"#fdca26\"],[1.0,\"#f0f921\"]]}],\"heatmap\":[{\"type\":\"heatmap\",\"colorbar\":{\"outlinewidth\":0,\"ticks\":\"\"},\"colorscale\":[[0.0,\"#0d0887\"],[0.1111111111111111,\"#46039f\"],[0.2222222222222222,\"#7201a8\"],[0.3333333333333333,\"#9c179e\"],[0.4444444444444444,\"#bd3786\"],[0.5555555555555556,\"#d8576b\"],[0.6666666666666666,\"#ed7953\"],[0.7777777777777778,\"#fb9f3a\"],[0.8888888888888888,\"#fdca26\"],[1.0,\"#f0f921\"]]}],\"heatmapgl\":[{\"type\":\"heatmapgl\",\"colorbar\":{\"outlinewidth\":0,\"ticks\":\"\"},\"colorscale\":[[0.0,\"#0d0887\"],[0.1111111111111111,\"#46039f\"],[0.2222222222222222,\"#7201a8\"],[0.3333333333333333,\"#9c179e\"],[0.4444444444444444,\"#bd3786\"],[0.5555555555555556,\"#d8576b\"],[0.6666666666666666,\"#ed7953\"],[0.7777777777777778,\"#fb9f3a\"],[0.8888888888888888,\"#fdca26\"],[1.0,\"#f0f921\"]]}],\"contourcarpet\":[{\"type\":\"contourcarpet\",\"colorbar\":{\"outlinewidth\":0,\"ticks\":\"\"}}],\"contour\":[{\"type\":\"contour\",\"colorbar\":{\"outlinewidth\":0,\"ticks\":\"\"},\"colorscale\":[[0.0,\"#0d0887\"],[0.1111111111111111,\"#46039f\"],[0.2222222222222222,\"#7201a8\"],[0.3333333333333333,\"#9c179e\"],[0.4444444444444444,\"#bd3786\"],[0.5555555555555556,\"#d8576b\"],[0.6666666666666666,\"#ed7953\"],[0.7777777777777778,\"#fb9f3a\"],[0.8888888888888888,\"#fdca26\"],[1.0,\"#f0f921\"]]}],\"surface\":[{\"type\":\"surface\",\"colorbar\":{\"outlinewidth\":0,\"ticks\":\"\"},\"colorscale\":[[0.0,\"#0d0887\"],[0.1111111111111111,\"#46039f\"],[0.2222222222222222,\"#7201a8\"],[0.3333333333333333,\"#9c179e\"],[0.4444444444444444,\"#bd3786\"],[0.5555555555555556,\"#d8576b\"],[0.6666666666666666,\"#ed7953\"],[0.7777777777777778,\"#fb9f3a\"],[0.8888888888888888,\"#fdca26\"],[1.0,\"#f0f921\"]]}],\"mesh3d\":[{\"type\":\"mesh3d\",\"colorbar\":{\"outlinewidth\":0,\"ticks\":\"\"}}],\"scatter\":[{\"fillpattern\":{\"fillmode\":\"overlay\",\"size\":10,\"solidity\":0.2},\"type\":\"scatter\"}],\"parcoords\":[{\"type\":\"parcoords\",\"line\":{\"colorbar\":{\"outlinewidth\":0,\"ticks\":\"\"}}}],\"scatterpolargl\":[{\"type\":\"scatterpolargl\",\"marker\":{\"colorbar\":{\"outlinewidth\":0,\"ticks\":\"\"}}}],\"bar\":[{\"error_x\":{\"color\":\"#2a3f5f\"},\"error_y\":{\"color\":\"#2a3f5f\"},\"marker\":{\"line\":{\"color\":\"#E5ECF6\",\"width\":0.5},\"pattern\":{\"fillmode\":\"overlay\",\"size\":10,\"solidity\":0.2}},\"type\":\"bar\"}],\"scattergeo\":[{\"type\":\"scattergeo\",\"marker\":{\"colorbar\":{\"outlinewidth\":0,\"ticks\":\"\"}}}],\"scatterpolar\":[{\"type\":\"scatterpolar\",\"marker\":{\"colorbar\":{\"outlinewidth\":0,\"ticks\":\"\"}}}],\"histogram\":[{\"marker\":{\"pattern\":{\"fillmode\":\"overlay\",\"size\":10,\"solidity\":0.2}},\"type\":\"histogram\"}],\"scattergl\":[{\"type\":\"scattergl\",\"marker\":{\"colorbar\":{\"outlinewidth\":0,\"ticks\":\"\"}}}],\"scatter3d\":[{\"type\":\"scatter3d\",\"line\":{\"colorbar\":{\"outlinewidth\":0,\"ticks\":\"\"}},\"marker\":{\"colorbar\":{\"outlinewidth\":0,\"ticks\":\"\"}}}],\"scattermapbox\":[{\"type\":\"scattermapbox\",\"marker\":{\"colorbar\":{\"outlinewidth\":0,\"ticks\":\"\"}}}],\"scatterternary\":[{\"type\":\"scatterternary\",\"marker\":{\"colorbar\":{\"outlinewidth\":0,\"ticks\":\"\"}}}],\"scattercarpet\":[{\"type\":\"scattercarpet\",\"marker\":{\"colorbar\":{\"outlinewidth\":0,\"ticks\":\"\"}}}],\"carpet\":[{\"aaxis\":{\"endlinecolor\":\"#2a3f5f\",\"gridcolor\":\"white\",\"linecolor\":\"white\",\"minorgridcolor\":\"white\",\"startlinecolor\":\"#2a3f5f\"},\"baxis\":{\"endlinecolor\":\"#2a3f5f\",\"gridcolor\":\"white\",\"linecolor\":\"white\",\"minorgridcolor\":\"white\",\"startlinecolor\":\"#2a3f5f\"},\"type\":\"carpet\"}],\"table\":[{\"cells\":{\"fill\":{\"color\":\"#EBF0F8\"},\"line\":{\"color\":\"white\"}},\"header\":{\"fill\":{\"color\":\"#C8D4E3\"},\"line\":{\"color\":\"white\"}},\"type\":\"table\"}],\"barpolar\":[{\"marker\":{\"line\":{\"color\":\"#E5ECF6\",\"width\":0.5},\"pattern\":{\"fillmode\":\"overlay\",\"size\":10,\"solidity\":0.2}},\"type\":\"barpolar\"}],\"pie\":[{\"automargin\":true,\"type\":\"pie\"}]},\"layout\":{\"autotypenumbers\":\"strict\",\"colorway\":[\"#636efa\",\"#EF553B\",\"#00cc96\",\"#ab63fa\",\"#FFA15A\",\"#19d3f3\",\"#FF6692\",\"#B6E880\",\"#FF97FF\",\"#FECB52\"],\"font\":{\"color\":\"#2a3f5f\"},\"hovermode\":\"closest\",\"hoverlabel\":{\"align\":\"left\"},\"paper_bgcolor\":\"white\",\"plot_bgcolor\":\"#E5ECF6\",\"polar\":{\"bgcolor\":\"#E5ECF6\",\"angularaxis\":{\"gridcolor\":\"white\",\"linecolor\":\"white\",\"ticks\":\"\"},\"radialaxis\":{\"gridcolor\":\"white\",\"linecolor\":\"white\",\"ticks\":\"\"}},\"ternary\":{\"bgcolor\":\"#E5ECF6\",\"aaxis\":{\"gridcolor\":\"white\",\"linecolor\":\"white\",\"ticks\":\"\"},\"baxis\":{\"gridcolor\":\"white\",\"linecolor\":\"white\",\"ticks\":\"\"},\"caxis\":{\"gridcolor\":\"white\",\"linecolor\":\"white\",\"ticks\":\"\"}},\"coloraxis\":{\"colorbar\":{\"outlinewidth\":0,\"ticks\":\"\"}},\"colorscale\":{\"sequential\":[[0.0,\"#0d0887\"],[0.1111111111111111,\"#46039f\"],[0.2222222222222222,\"#7201a8\"],[0.3333333333333333,\"#9c179e\"],[0.4444444444444444,\"#bd3786\"],[0.5555555555555556,\"#d8576b\"],[0.6666666666666666,\"#ed7953\"],[0.7777777777777778,\"#fb9f3a\"],[0.8888888888888888,\"#fdca26\"],[1.0,\"#f0f921\"]],\"sequentialminus\":[[0.0,\"#0d0887\"],[0.1111111111111111,\"#46039f\"],[0.2222222222222222,\"#7201a8\"],[0.3333333333333333,\"#9c179e\"],[0.4444444444444444,\"#bd3786\"],[0.5555555555555556,\"#d8576b\"],[0.6666666666666666,\"#ed7953\"],[0.7777777777777778,\"#fb9f3a\"],[0.8888888888888888,\"#fdca26\"],[1.0,\"#f0f921\"]],\"diverging\":[[0,\"#8e0152\"],[0.1,\"#c51b7d\"],[0.2,\"#de77ae\"],[0.3,\"#f1b6da\"],[0.4,\"#fde0ef\"],[0.5,\"#f7f7f7\"],[0.6,\"#e6f5d0\"],[0.7,\"#b8e186\"],[0.8,\"#7fbc41\"],[0.9,\"#4d9221\"],[1,\"#276419\"]]},\"xaxis\":{\"gridcolor\":\"white\",\"linecolor\":\"white\",\"ticks\":\"\",\"title\":{\"standoff\":15},\"zerolinecolor\":\"white\",\"automargin\":true,\"zerolinewidth\":2},\"yaxis\":{\"gridcolor\":\"white\",\"linecolor\":\"white\",\"ticks\":\"\",\"title\":{\"standoff\":15},\"zerolinecolor\":\"white\",\"automargin\":true,\"zerolinewidth\":2},\"scene\":{\"xaxis\":{\"backgroundcolor\":\"#E5ECF6\",\"gridcolor\":\"white\",\"linecolor\":\"white\",\"showbackground\":true,\"ticks\":\"\",\"zerolinecolor\":\"white\",\"gridwidth\":2},\"yaxis\":{\"backgroundcolor\":\"#E5ECF6\",\"gridcolor\":\"white\",\"linecolor\":\"white\",\"showbackground\":true,\"ticks\":\"\",\"zerolinecolor\":\"white\",\"gridwidth\":2},\"zaxis\":{\"backgroundcolor\":\"#E5ECF6\",\"gridcolor\":\"white\",\"linecolor\":\"white\",\"showbackground\":true,\"ticks\":\"\",\"zerolinecolor\":\"white\",\"gridwidth\":2}},\"shapedefaults\":{\"line\":{\"color\":\"#2a3f5f\"}},\"annotationdefaults\":{\"arrowcolor\":\"#2a3f5f\",\"arrowhead\":0,\"arrowwidth\":1},\"geo\":{\"bgcolor\":\"white\",\"landcolor\":\"#E5ECF6\",\"subunitcolor\":\"white\",\"showland\":true,\"showlakes\":true,\"lakecolor\":\"white\"},\"title\":{\"x\":0.05},\"mapbox\":{\"style\":\"light\"}}}},                        {\"responsive\": true}                    ).then(function(){\n",
       "                            Plotly.addFrames('5b0b5485-a8c3-4039-8dad-ad67468e90c4', [{\"data\":[{\"marker\":{\"color\":\"#5D69B1\",\"size\":10},\"mode\":\"markers\",\"name\":\"\\u0413\\u043e\\u0440\\u043e\\u0434\",\"text\":[\"\\u041d\\u0430\\u0437\\u0432\\u0430\\u043d\\u0438\\u0435: A\",\"\\u041d\\u0430\\u0437\\u0432\\u0430\\u043d\\u0438\\u0435: B\",\"\\u041d\\u0430\\u0437\\u0432\\u0430\\u043d\\u0438\\u0435: C\",\"\\u041d\\u0430\\u0437\\u0432\\u0430\\u043d\\u0438\\u0435: D\",\"\\u041d\\u0430\\u0437\\u0432\\u0430\\u043d\\u0438\\u0435: E\",\"\\u041d\\u0430\\u0437\\u0432\\u0430\\u043d\\u0438\\u0435: F\",\"\\u041d\\u0430\\u0437\\u0432\\u0430\\u043d\\u0438\\u0435: G\",\"\\u041d\\u0430\\u0437\\u0432\\u0430\\u043d\\u0438\\u0435: H\",\"\\u041d\\u0430\\u0437\\u0432\\u0430\\u043d\\u0438\\u0435: I\",\"\\u041d\\u0430\\u0437\\u0432\\u0430\\u043d\\u0438\\u0435: J\",\"\\u041d\\u0430\\u0437\\u0432\\u0430\\u043d\\u0438\\u0435: K\",\"\\u041d\\u0430\\u0437\\u0432\\u0430\\u043d\\u0438\\u0435: L\",\"\\u041d\\u0430\\u0437\\u0432\\u0430\\u043d\\u0438\\u0435: M\",\"\\u041d\\u0430\\u0437\\u0432\\u0430\\u043d\\u0438\\u0435: N\",\"\\u041d\\u0430\\u0437\\u0432\\u0430\\u043d\\u0438\\u0435: O\",\"\\u041d\\u0430\\u0437\\u0432\\u0430\\u043d\\u0438\\u0435: P\"],\"x\":[93,67,66,99,18,47,84,16,9,76,72,53,91,61,26,15],\"y\":[48,72,44,65,90,17,8,67,57,28,69,65,26,49,56,73],\"type\":\"scatter\"},{\"mode\":\"lines\",\"name\":\"\\u041c\\u0430\\u0440\\u0448\\u0440\\u0443\\u0442\",\"x\":[93,53,61,66,18,67,72,99,91,76,26,47,9,15,16,84,93],\"y\":[48,65,49,44,90,72,69,65,26,28,56,17,57,73,67,8,48],\"type\":\"scatter\"}],\"layout\":{\"title\":{\"text\":\"\\u041c\\u0430\\u0440\\u0448\\u0440\\u0443\\u0442, \\u043d\\u0430\\u0439\\u0434\\u0435\\u043d\\u043d\\u044b\\u0439 \\u043c\\u0443\\u0440\\u0430\\u0432\\u044c\\u0438\\u043d\\u044b\\u043c \\u0430\\u043b\\u0433\\u043e\\u0440\\u0438\\u0442\\u043c\\u043e\\u043c \\u0437\\u0430 1 \\u0448\\u0430\\u0433\\u043e\\u0432, \\u0434\\u043b\\u0438\\u043d\\u0430 \\u043c\\u0430\\u0440\\u0448\\u0440\\u0443\\u0442\\u0430 = 586.1489615211168\"},\"updatemenus\":[{\"buttons\":[{\"args\":[null,{\"frame\":{\"duration\":180}}],\"label\":\"\\u0417\\u0430\\u043f\\u0443\\u0441\\u0442\\u0438\\u0442\\u044c\",\"method\":\"animate\"}],\"type\":\"buttons\"}]}},{\"data\":[{\"marker\":{\"color\":\"#5D69B1\",\"size\":10},\"mode\":\"markers\",\"name\":\"\\u0413\\u043e\\u0440\\u043e\\u0434\",\"text\":[\"\\u041d\\u0430\\u0437\\u0432\\u0430\\u043d\\u0438\\u0435: A\",\"\\u041d\\u0430\\u0437\\u0432\\u0430\\u043d\\u0438\\u0435: B\",\"\\u041d\\u0430\\u0437\\u0432\\u0430\\u043d\\u0438\\u0435: C\",\"\\u041d\\u0430\\u0437\\u0432\\u0430\\u043d\\u0438\\u0435: D\",\"\\u041d\\u0430\\u0437\\u0432\\u0430\\u043d\\u0438\\u0435: E\",\"\\u041d\\u0430\\u0437\\u0432\\u0430\\u043d\\u0438\\u0435: F\",\"\\u041d\\u0430\\u0437\\u0432\\u0430\\u043d\\u0438\\u0435: G\",\"\\u041d\\u0430\\u0437\\u0432\\u0430\\u043d\\u0438\\u0435: H\",\"\\u041d\\u0430\\u0437\\u0432\\u0430\\u043d\\u0438\\u0435: I\",\"\\u041d\\u0430\\u0437\\u0432\\u0430\\u043d\\u0438\\u0435: J\",\"\\u041d\\u0430\\u0437\\u0432\\u0430\\u043d\\u0438\\u0435: K\",\"\\u041d\\u0430\\u0437\\u0432\\u0430\\u043d\\u0438\\u0435: L\",\"\\u041d\\u0430\\u0437\\u0432\\u0430\\u043d\\u0438\\u0435: M\",\"\\u041d\\u0430\\u0437\\u0432\\u0430\\u043d\\u0438\\u0435: N\",\"\\u041d\\u0430\\u0437\\u0432\\u0430\\u043d\\u0438\\u0435: O\",\"\\u041d\\u0430\\u0437\\u0432\\u0430\\u043d\\u0438\\u0435: P\"],\"x\":[93,67,66,99,18,47,84,16,9,76,72,53,91,61,26,15],\"y\":[48,72,44,65,90,17,8,67,57,28,69,65,26,49,56,73],\"type\":\"scatter\"},{\"mode\":\"lines\",\"name\":\"\\u041c\\u0430\\u0440\\u0448\\u0440\\u0443\\u0442\",\"x\":[93,99,91,47,76,66,61,18,67,53,9,16,15,26,84,72,93],\"y\":[48,65,26,17,28,44,49,90,72,65,57,67,73,56,8,69,48],\"type\":\"scatter\"}],\"layout\":{\"title\":{\"text\":\"\\u041c\\u0430\\u0440\\u0448\\u0440\\u0443\\u0442, \\u043d\\u0430\\u0439\\u0434\\u0435\\u043d\\u043d\\u044b\\u0439 \\u043c\\u0443\\u0440\\u0430\\u0432\\u044c\\u0438\\u043d\\u044b\\u043c \\u0430\\u043b\\u0433\\u043e\\u0440\\u0438\\u0442\\u043c\\u043e\\u043c \\u0437\\u0430 2 \\u0448\\u0430\\u0433\\u043e\\u0432, \\u0434\\u043b\\u0438\\u043d\\u0430 \\u043c\\u0430\\u0440\\u0448\\u0440\\u0443\\u0442\\u0430 = 537.3866687150356\"},\"updatemenus\":[{\"buttons\":[{\"args\":[null,{\"frame\":{\"duration\":180}}],\"label\":\"\\u0417\\u0430\\u043f\\u0443\\u0441\\u0442\\u0438\\u0442\\u044c\",\"method\":\"animate\"}],\"type\":\"buttons\"}]}},{\"data\":[{\"marker\":{\"color\":\"#5D69B1\",\"size\":10},\"mode\":\"markers\",\"name\":\"\\u0413\\u043e\\u0440\\u043e\\u0434\",\"text\":[\"\\u041d\\u0430\\u0437\\u0432\\u0430\\u043d\\u0438\\u0435: A\",\"\\u041d\\u0430\\u0437\\u0432\\u0430\\u043d\\u0438\\u0435: B\",\"\\u041d\\u0430\\u0437\\u0432\\u0430\\u043d\\u0438\\u0435: C\",\"\\u041d\\u0430\\u0437\\u0432\\u0430\\u043d\\u0438\\u0435: D\",\"\\u041d\\u0430\\u0437\\u0432\\u0430\\u043d\\u0438\\u0435: E\",\"\\u041d\\u0430\\u0437\\u0432\\u0430\\u043d\\u0438\\u0435: F\",\"\\u041d\\u0430\\u0437\\u0432\\u0430\\u043d\\u0438\\u0435: G\",\"\\u041d\\u0430\\u0437\\u0432\\u0430\\u043d\\u0438\\u0435: H\",\"\\u041d\\u0430\\u0437\\u0432\\u0430\\u043d\\u0438\\u0435: I\",\"\\u041d\\u0430\\u0437\\u0432\\u0430\\u043d\\u0438\\u0435: J\",\"\\u041d\\u0430\\u0437\\u0432\\u0430\\u043d\\u0438\\u0435: K\",\"\\u041d\\u0430\\u0437\\u0432\\u0430\\u043d\\u0438\\u0435: L\",\"\\u041d\\u0430\\u0437\\u0432\\u0430\\u043d\\u0438\\u0435: M\",\"\\u041d\\u0430\\u0437\\u0432\\u0430\\u043d\\u0438\\u0435: N\",\"\\u041d\\u0430\\u0437\\u0432\\u0430\\u043d\\u0438\\u0435: O\",\"\\u041d\\u0430\\u0437\\u0432\\u0430\\u043d\\u0438\\u0435: P\"],\"x\":[93,67,66,99,18,47,84,16,9,76,72,53,91,61,26,15],\"y\":[48,72,44,65,90,17,8,67,57,28,69,65,26,49,56,73],\"type\":\"scatter\"},{\"mode\":\"lines\",\"name\":\"\\u041c\\u0430\\u0440\\u0448\\u0440\\u0443\\u0442\",\"x\":[93,99,15,16,26,18,9,47,84,72,61,91,76,66,53,67,93],\"y\":[48,65,73,67,56,90,57,17,8,69,49,26,28,44,65,72,48],\"type\":\"scatter\"}],\"layout\":{\"title\":{\"text\":\"\\u041c\\u0430\\u0440\\u0448\\u0440\\u0443\\u0442, \\u043d\\u0430\\u0439\\u0434\\u0435\\u043d\\u043d\\u044b\\u0439 \\u043c\\u0443\\u0440\\u0430\\u0432\\u044c\\u0438\\u043d\\u044b\\u043c \\u0430\\u043b\\u0433\\u043e\\u0440\\u0438\\u0442\\u043c\\u043e\\u043c \\u0437\\u0430 3 \\u0448\\u0430\\u0433\\u043e\\u0432, \\u0434\\u043b\\u0438\\u043d\\u0430 \\u043c\\u0430\\u0440\\u0448\\u0440\\u0443\\u0442\\u0430 = 518.2734027526021\"},\"updatemenus\":[{\"buttons\":[{\"args\":[null,{\"frame\":{\"duration\":180}}],\"label\":\"\\u0417\\u0430\\u043f\\u0443\\u0441\\u0442\\u0438\\u0442\\u044c\",\"method\":\"animate\"}],\"type\":\"buttons\"}]}},{\"data\":[{\"marker\":{\"color\":\"#5D69B1\",\"size\":10},\"mode\":\"markers\",\"name\":\"\\u0413\\u043e\\u0440\\u043e\\u0434\",\"text\":[\"\\u041d\\u0430\\u0437\\u0432\\u0430\\u043d\\u0438\\u0435: A\",\"\\u041d\\u0430\\u0437\\u0432\\u0430\\u043d\\u0438\\u0435: B\",\"\\u041d\\u0430\\u0437\\u0432\\u0430\\u043d\\u0438\\u0435: C\",\"\\u041d\\u0430\\u0437\\u0432\\u0430\\u043d\\u0438\\u0435: D\",\"\\u041d\\u0430\\u0437\\u0432\\u0430\\u043d\\u0438\\u0435: E\",\"\\u041d\\u0430\\u0437\\u0432\\u0430\\u043d\\u0438\\u0435: F\",\"\\u041d\\u0430\\u0437\\u0432\\u0430\\u043d\\u0438\\u0435: G\",\"\\u041d\\u0430\\u0437\\u0432\\u0430\\u043d\\u0438\\u0435: H\",\"\\u041d\\u0430\\u0437\\u0432\\u0430\\u043d\\u0438\\u0435: I\",\"\\u041d\\u0430\\u0437\\u0432\\u0430\\u043d\\u0438\\u0435: J\",\"\\u041d\\u0430\\u0437\\u0432\\u0430\\u043d\\u0438\\u0435: K\",\"\\u041d\\u0430\\u0437\\u0432\\u0430\\u043d\\u0438\\u0435: L\",\"\\u041d\\u0430\\u0437\\u0432\\u0430\\u043d\\u0438\\u0435: M\",\"\\u041d\\u0430\\u0437\\u0432\\u0430\\u043d\\u0438\\u0435: N\",\"\\u041d\\u0430\\u0437\\u0432\\u0430\\u043d\\u0438\\u0435: O\",\"\\u041d\\u0430\\u0437\\u0432\\u0430\\u043d\\u0438\\u0435: P\"],\"x\":[93,67,66,99,18,47,84,16,9,76,72,53,91,61,26,15],\"y\":[48,72,44,65,90,17,8,67,57,28,69,65,26,49,56,73],\"type\":\"scatter\"},{\"mode\":\"lines\",\"name\":\"\\u041c\\u0430\\u0440\\u0448\\u0440\\u0443\\u0442\",\"x\":[93,99,67,72,66,61,53,16,15,18,47,84,76,91,9,26,93],\"y\":[48,65,72,69,44,49,65,67,73,90,17,8,28,26,57,56,48],\"type\":\"scatter\"}],\"layout\":{\"title\":{\"text\":\"\\u041c\\u0430\\u0440\\u0448\\u0440\\u0443\\u0442, \\u043d\\u0430\\u0439\\u0434\\u0435\\u043d\\u043d\\u044b\\u0439 \\u043c\\u0443\\u0440\\u0430\\u0432\\u044c\\u0438\\u043d\\u044b\\u043c \\u0430\\u043b\\u0433\\u043e\\u0440\\u0438\\u0442\\u043c\\u043e\\u043c \\u0437\\u0430 4 \\u0448\\u0430\\u0433\\u043e\\u0432, \\u0434\\u043b\\u0438\\u043d\\u0430 \\u043c\\u0430\\u0440\\u0448\\u0440\\u0443\\u0442\\u0430 = 493.15543056388975\"},\"updatemenus\":[{\"buttons\":[{\"args\":[null,{\"frame\":{\"duration\":180}}],\"label\":\"\\u0417\\u0430\\u043f\\u0443\\u0441\\u0442\\u0438\\u0442\\u044c\",\"method\":\"animate\"}],\"type\":\"buttons\"}]}},{\"data\":[{\"marker\":{\"color\":\"#5D69B1\",\"size\":10},\"mode\":\"markers\",\"name\":\"\\u0413\\u043e\\u0440\\u043e\\u0434\",\"text\":[\"\\u041d\\u0430\\u0437\\u0432\\u0430\\u043d\\u0438\\u0435: A\",\"\\u041d\\u0430\\u0437\\u0432\\u0430\\u043d\\u0438\\u0435: B\",\"\\u041d\\u0430\\u0437\\u0432\\u0430\\u043d\\u0438\\u0435: C\",\"\\u041d\\u0430\\u0437\\u0432\\u0430\\u043d\\u0438\\u0435: D\",\"\\u041d\\u0430\\u0437\\u0432\\u0430\\u043d\\u0438\\u0435: E\",\"\\u041d\\u0430\\u0437\\u0432\\u0430\\u043d\\u0438\\u0435: F\",\"\\u041d\\u0430\\u0437\\u0432\\u0430\\u043d\\u0438\\u0435: G\",\"\\u041d\\u0430\\u0437\\u0432\\u0430\\u043d\\u0438\\u0435: H\",\"\\u041d\\u0430\\u0437\\u0432\\u0430\\u043d\\u0438\\u0435: I\",\"\\u041d\\u0430\\u0437\\u0432\\u0430\\u043d\\u0438\\u0435: J\",\"\\u041d\\u0430\\u0437\\u0432\\u0430\\u043d\\u0438\\u0435: K\",\"\\u041d\\u0430\\u0437\\u0432\\u0430\\u043d\\u0438\\u0435: L\",\"\\u041d\\u0430\\u0437\\u0432\\u0430\\u043d\\u0438\\u0435: M\",\"\\u041d\\u0430\\u0437\\u0432\\u0430\\u043d\\u0438\\u0435: N\",\"\\u041d\\u0430\\u0437\\u0432\\u0430\\u043d\\u0438\\u0435: O\",\"\\u041d\\u0430\\u0437\\u0432\\u0430\\u043d\\u0438\\u0435: P\"],\"x\":[93,67,66,99,18,47,84,16,9,76,72,53,91,61,26,15],\"y\":[48,72,44,65,90,17,8,67,57,28,69,65,26,49,56,73],\"type\":\"scatter\"},{\"mode\":\"lines\",\"name\":\"\\u041c\\u0430\\u0440\\u0448\\u0440\\u0443\\u0442\",\"x\":[93,91,76,67,72,66,84,47,61,53,9,16,15,26,18,99,93],\"y\":[48,26,28,72,69,44,8,17,49,65,57,67,73,56,90,65,48],\"type\":\"scatter\"}],\"layout\":{\"title\":{\"text\":\"\\u041c\\u0430\\u0440\\u0448\\u0440\\u0443\\u0442, \\u043d\\u0430\\u0439\\u0434\\u0435\\u043d\\u043d\\u044b\\u0439 \\u043c\\u0443\\u0440\\u0430\\u0432\\u044c\\u0438\\u043d\\u044b\\u043c \\u0430\\u043b\\u0433\\u043e\\u0440\\u0438\\u0442\\u043c\\u043e\\u043c \\u0437\\u0430 5 \\u0448\\u0430\\u0433\\u043e\\u0432, \\u0434\\u043b\\u0438\\u043d\\u0430 \\u043c\\u0430\\u0440\\u0448\\u0440\\u0443\\u0442\\u0430 = 465.8061616351388\"},\"updatemenus\":[{\"buttons\":[{\"args\":[null,{\"frame\":{\"duration\":180}}],\"label\":\"\\u0417\\u0430\\u043f\\u0443\\u0441\\u0442\\u0438\\u0442\\u044c\",\"method\":\"animate\"}],\"type\":\"buttons\"}]}},{\"data\":[{\"marker\":{\"color\":\"#5D69B1\",\"size\":10},\"mode\":\"markers\",\"name\":\"\\u0413\\u043e\\u0440\\u043e\\u0434\",\"text\":[\"\\u041d\\u0430\\u0437\\u0432\\u0430\\u043d\\u0438\\u0435: A\",\"\\u041d\\u0430\\u0437\\u0432\\u0430\\u043d\\u0438\\u0435: B\",\"\\u041d\\u0430\\u0437\\u0432\\u0430\\u043d\\u0438\\u0435: C\",\"\\u041d\\u0430\\u0437\\u0432\\u0430\\u043d\\u0438\\u0435: D\",\"\\u041d\\u0430\\u0437\\u0432\\u0430\\u043d\\u0438\\u0435: E\",\"\\u041d\\u0430\\u0437\\u0432\\u0430\\u043d\\u0438\\u0435: F\",\"\\u041d\\u0430\\u0437\\u0432\\u0430\\u043d\\u0438\\u0435: G\",\"\\u041d\\u0430\\u0437\\u0432\\u0430\\u043d\\u0438\\u0435: H\",\"\\u041d\\u0430\\u0437\\u0432\\u0430\\u043d\\u0438\\u0435: I\",\"\\u041d\\u0430\\u0437\\u0432\\u0430\\u043d\\u0438\\u0435: J\",\"\\u041d\\u0430\\u0437\\u0432\\u0430\\u043d\\u0438\\u0435: K\",\"\\u041d\\u0430\\u0437\\u0432\\u0430\\u043d\\u0438\\u0435: L\",\"\\u041d\\u0430\\u0437\\u0432\\u0430\\u043d\\u0438\\u0435: M\",\"\\u041d\\u0430\\u0437\\u0432\\u0430\\u043d\\u0438\\u0435: N\",\"\\u041d\\u0430\\u0437\\u0432\\u0430\\u043d\\u0438\\u0435: O\",\"\\u041d\\u0430\\u0437\\u0432\\u0430\\u043d\\u0438\\u0435: P\"],\"x\":[93,67,66,99,18,47,84,16,9,76,72,53,91,61,26,15],\"y\":[48,72,44,65,90,17,8,67,57,28,69,65,26,49,56,73],\"type\":\"scatter\"},{\"mode\":\"lines\",\"name\":\"\\u041c\\u0430\\u0440\\u0448\\u0440\\u0443\\u0442\",\"x\":[93,91,76,84,66,53,72,67,61,9,16,15,18,26,47,99,93],\"y\":[48,26,28,8,44,65,69,72,49,57,67,73,90,56,17,65,48],\"type\":\"scatter\"}],\"layout\":{\"title\":{\"text\":\"\\u041c\\u0430\\u0440\\u0448\\u0440\\u0443\\u0442, \\u043d\\u0430\\u0439\\u0434\\u0435\\u043d\\u043d\\u044b\\u0439 \\u043c\\u0443\\u0440\\u0430\\u0432\\u044c\\u0438\\u043d\\u044b\\u043c \\u0430\\u043b\\u0433\\u043e\\u0440\\u0438\\u0442\\u043c\\u043e\\u043c \\u0437\\u0430 6 \\u0448\\u0430\\u0433\\u043e\\u0432, \\u0434\\u043b\\u0438\\u043d\\u0430 \\u043c\\u0430\\u0440\\u0448\\u0440\\u0443\\u0442\\u0430 = 428.9104256630998\"},\"updatemenus\":[{\"buttons\":[{\"args\":[null,{\"frame\":{\"duration\":180}}],\"label\":\"\\u0417\\u0430\\u043f\\u0443\\u0441\\u0442\\u0438\\u0442\\u044c\",\"method\":\"animate\"}],\"type\":\"buttons\"}]}},{\"data\":[{\"marker\":{\"color\":\"#5D69B1\",\"size\":10},\"mode\":\"markers\",\"name\":\"\\u0413\\u043e\\u0440\\u043e\\u0434\",\"text\":[\"\\u041d\\u0430\\u0437\\u0432\\u0430\\u043d\\u0438\\u0435: A\",\"\\u041d\\u0430\\u0437\\u0432\\u0430\\u043d\\u0438\\u0435: B\",\"\\u041d\\u0430\\u0437\\u0432\\u0430\\u043d\\u0438\\u0435: C\",\"\\u041d\\u0430\\u0437\\u0432\\u0430\\u043d\\u0438\\u0435: D\",\"\\u041d\\u0430\\u0437\\u0432\\u0430\\u043d\\u0438\\u0435: E\",\"\\u041d\\u0430\\u0437\\u0432\\u0430\\u043d\\u0438\\u0435: F\",\"\\u041d\\u0430\\u0437\\u0432\\u0430\\u043d\\u0438\\u0435: G\",\"\\u041d\\u0430\\u0437\\u0432\\u0430\\u043d\\u0438\\u0435: H\",\"\\u041d\\u0430\\u0437\\u0432\\u0430\\u043d\\u0438\\u0435: I\",\"\\u041d\\u0430\\u0437\\u0432\\u0430\\u043d\\u0438\\u0435: J\",\"\\u041d\\u0430\\u0437\\u0432\\u0430\\u043d\\u0438\\u0435: K\",\"\\u041d\\u0430\\u0437\\u0432\\u0430\\u043d\\u0438\\u0435: L\",\"\\u041d\\u0430\\u0437\\u0432\\u0430\\u043d\\u0438\\u0435: M\",\"\\u041d\\u0430\\u0437\\u0432\\u0430\\u043d\\u0438\\u0435: N\",\"\\u041d\\u0430\\u0437\\u0432\\u0430\\u043d\\u0438\\u0435: O\",\"\\u041d\\u0430\\u0437\\u0432\\u0430\\u043d\\u0438\\u0435: P\"],\"x\":[93,67,66,99,18,47,84,16,9,76,72,53,91,61,26,15],\"y\":[48,72,44,65,90,17,8,67,57,28,69,65,26,49,56,73],\"type\":\"scatter\"},{\"mode\":\"lines\",\"name\":\"\\u041c\\u0430\\u0440\\u0448\\u0440\\u0443\\u0442\",\"x\":[93,99,67,72,66,61,26,9,15,16,18,53,76,91,84,47,93],\"y\":[48,65,72,69,44,49,56,57,73,67,90,65,28,26,8,17,48],\"type\":\"scatter\"}],\"layout\":{\"title\":{\"text\":\"\\u041c\\u0430\\u0440\\u0448\\u0440\\u0443\\u0442, \\u043d\\u0430\\u0439\\u0434\\u0435\\u043d\\u043d\\u044b\\u0439 \\u043c\\u0443\\u0440\\u0430\\u0432\\u044c\\u0438\\u043d\\u044b\\u043c \\u0430\\u043b\\u0433\\u043e\\u0440\\u0438\\u0442\\u043c\\u043e\\u043c \\u0437\\u0430 7 \\u0448\\u0430\\u0433\\u043e\\u0432, \\u0434\\u043b\\u0438\\u043d\\u0430 \\u043c\\u0430\\u0440\\u0448\\u0440\\u0443\\u0442\\u0430 = 402.94966134575435\"},\"updatemenus\":[{\"buttons\":[{\"args\":[null,{\"frame\":{\"duration\":180}}],\"label\":\"\\u0417\\u0430\\u043f\\u0443\\u0441\\u0442\\u0438\\u0442\\u044c\",\"method\":\"animate\"}],\"type\":\"buttons\"}]}}]);\n",
       "                        }).then(function(){\n",
       "                            \n",
       "var gd = document.getElementById('5b0b5485-a8c3-4039-8dad-ad67468e90c4');\n",
       "var x = new MutationObserver(function (mutations, observer) {{\n",
       "        var display = window.getComputedStyle(gd).display;\n",
       "        if (!display || display === 'none') {{\n",
       "            console.log([gd, 'removed!']);\n",
       "            Plotly.purge(gd);\n",
       "            observer.disconnect();\n",
       "        }}\n",
       "}});\n",
       "\n",
       "// Listen for the removal of the full notebook cells\n",
       "var notebookContainer = gd.closest('#notebook-container');\n",
       "if (notebookContainer) {{\n",
       "    x.observe(notebookContainer, {childList: true});\n",
       "}}\n",
       "\n",
       "// Listen for the clearing of the current output cell\n",
       "var outputEl = gd.closest('.output');\n",
       "if (outputEl) {{\n",
       "    x.observe(outputEl, {childList: true});\n",
       "}}\n",
       "\n",
       "                        })                };                });            </script>        </div>"
      ]
     },
     "metadata": {},
     "output_type": "display_data"
    }
   ],
   "source": [
    "import plotly.graph_objects as go\n",
    "\n",
    "points = go.Scatter(x=cities_df['x'], y=cities_df['y'], mode='markers',\n",
    "                    marker=dict(color='#5D69B1', size=10), name='Город',\n",
    "                    text = [\"Название: {}\".format(name) for name in cities_df['name'] ])\n",
    "\n",
    "paths_history, distances_history = tsp.get_solution_in_generations()\n",
    "generations = len(paths_history)\n",
    "answer = paths_history[generations - 1]\n",
    "\n",
    "path = go.Scatter(x=answer[0], y=answer[1], mode='lines', name=\"Маршрут\")\n",
    "\n",
    "button = {\n",
    "        \"type\": \"buttons\",\n",
    "        \"buttons\": [\n",
    "            {\n",
    "                \"label\": \"Запустить\",\n",
    "                \"method\": \"animate\",\n",
    "                \"args\": [None, {\"frame\": {\"duration\": 180}}],\n",
    "            }\n",
    "        ],\n",
    "    }\n",
    "\n",
    "frames = []\n",
    "for generation in range(generations):\n",
    "    path = go.Scatter(x=paths_history[generation][0], y=paths_history[generation][1], \n",
    "                      mode='lines', name=\"Маршрут\")\n",
    "    layout = go.Layout(updatemenus=[button], \n",
    "                       title_text=f\"Маршрут, найденный муравьиным алгоритмом за {generation + 1} шагов, \" +\n",
    "                                  f\"длина маршрута = {distances_history[generation]}\")\n",
    "    frame = go.Frame(data=[points, path], layout=layout)\n",
    "    frames.append(frame)\n",
    "\n",
    "\n",
    "fig = go.Figure(data=[points, path], frames=frames, layout=layout)\n",
    "fig.show()"
   ]
  },
  {
   "cell_type": "code",
   "execution_count": null,
   "metadata": {},
   "outputs": [],
   "source": []
  }
 ],
 "metadata": {
  "colab": {
   "collapsed_sections": [],
   "provenance": []
  },
  "hide_input": false,
  "kernelspec": {
   "display_name": "Python 3 (ipykernel)",
   "language": "python",
   "name": "python3"
  },
  "language_info": {
   "codemirror_mode": {
    "name": "ipython",
    "version": 3
   },
   "file_extension": ".py",
   "mimetype": "text/x-python",
   "name": "python",
   "nbconvert_exporter": "python",
   "pygments_lexer": "ipython3",
   "version": "3.8.10"
  },
  "varInspector": {
   "cols": {
    "lenName": 16,
    "lenType": 16,
    "lenVar": 40
   },
   "kernels_config": {
    "python": {
     "delete_cmd_postfix": "",
     "delete_cmd_prefix": "del ",
     "library": "var_list.py",
     "varRefreshCmd": "print(var_dic_list())"
    },
    "r": {
     "delete_cmd_postfix": ") ",
     "delete_cmd_prefix": "rm(",
     "library": "var_list.r",
     "varRefreshCmd": "cat(var_dic_list()) "
    }
   },
   "types_to_exclude": [
    "module",
    "function",
    "builtin_function_or_method",
    "instance",
    "_Feature"
   ],
   "window_display": false
  }
 },
 "nbformat": 4,
 "nbformat_minor": 1
}
