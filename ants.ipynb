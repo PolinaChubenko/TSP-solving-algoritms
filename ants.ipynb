{
 "cells": [
  {
   "cell_type": "markdown",
   "metadata": {
    "id": "BPeEof8hRhyT"
   },
   "source": [
    "Муравьиные алгоритмы\n"
   ]
  },
  {
   "cell_type": "code",
   "execution_count": 67,
   "metadata": {},
   "outputs": [],
   "source": [
    "# solution = [[[69, 40, 50, 33, 31, 8, 55, 60, 69], [52, 7, 2, 82, 74, 60, 72, 26, 52]], \n",
    "#             [[69, 50, 40, 60, 55, 8, 31, 33, 69], [52, 2, 7, 26, 72, 60, 74, 82, 52]], \n",
    "#             [[69, 33, 8, 31, 55, 60, 50, 40, 69], [52, 82, 60, 74, 72, 26, 2, 7, 52]], \n",
    "#             [[69, 33, 31, 8, 55, 50, 40, 60, 69], [52, 82, 74, 60, 72, 2, 7, 26, 52]], \n",
    "#             [[69, 60, 50, 40, 55, 33, 8, 31, 69], [52, 26, 2, 7, 72, 82, 60, 74, 52]], \n",
    "#             [[69, 55, 8, 31, 33, 40, 50, 60, 69], [52, 72, 60, 74, 82, 7, 2, 26, 52]], \n",
    "#             [[69, 55, 33, 31, 8, 60, 50, 40, 69], [52, 72, 82, 74, 60, 26, 2, 7, 52]], \n",
    "#             [[69, 55, 31, 33, 8, 40, 50, 60, 69], [52, 72, 74, 82, 60, 7, 2, 26, 52]], \n",
    "#             [[69, 55, 33, 31, 8, 40, 50, 60, 69], [52, 72, 82, 74, 60, 7, 2, 26, 52]]]"
   ]
  },
  {
   "cell_type": "code",
   "execution_count": 57,
   "metadata": {},
   "outputs": [],
   "source": [
    "d_cities = {\n",
    "    \"A\": [69, 52],\n",
    "    \"B\": [50, 2],\n",
    "    \"C\": [8, 60],\n",
    "    \"D\": [31, 74],\n",
    "    \"E\": [60, 26],\n",
    "    \"F\": [40, 7],\n",
    "    \"G\": [55, 72],\n",
    "    \"H\": [33, 82]\n",
    "}"
   ]
  },
  {
   "cell_type": "code",
   "execution_count": 58,
   "metadata": {
    "scrolled": true
   },
   "outputs": [
    {
     "data": {
      "text/plain": [
       "{'A': [69, 52],\n",
       " 'B': [50, 2],\n",
       " 'C': [8, 60],\n",
       " 'D': [31, 74],\n",
       " 'E': [60, 26],\n",
       " 'F': [40, 7],\n",
       " 'G': [55, 72],\n",
       " 'H': [33, 82]}"
      ]
     },
     "execution_count": 58,
     "metadata": {},
     "output_type": "execute_result"
    }
   ],
   "source": [
    "d_cities"
   ]
  },
  {
   "cell_type": "markdown",
   "metadata": {},
   "source": [
    "Сверху были тестовые данные. Теперь мы уже умеем работать с классом TSP"
   ]
  },
  {
   "cell_type": "code",
   "execution_count": 59,
   "metadata": {},
   "outputs": [],
   "source": [
    "from algorithms.ant import AntColony\n",
    "from tsp import TSP\n",
    "from typing import List"
   ]
  },
  {
   "cell_type": "code",
   "execution_count": 60,
   "metadata": {},
   "outputs": [],
   "source": [
    "cities: List[TSP.City] = []\n",
    "for city, coords in d_cities.items():\n",
    "    id, x, y = city, coords[0], coords[1]\n",
    "    cities.append(TSP.City(id, int(x), int(y)))\n",
    "\n",
    "tsp = TSP(cities)\n",
    "initial_state = TSP.State(1 << 0, 0)\n",
    "\n",
    "as_settings = AntColony.Settings()\n",
    "as_colony = AntColony(AntColony.Variation.ANT_SYSTEM, as_settings)"
   ]
  },
  {
   "cell_type": "code",
   "execution_count": 63,
   "metadata": {},
   "outputs": [
    {
     "name": "stdout",
     "output_type": "stream",
     "text": [
      "Rank-based Ant System:  [0, 6, 7, 3, 2, 5, 1, 4, 0] 210.35643810611498\n",
      "CPU times: user 12.5 s, sys: 0 ns, total: 12.5 s\n",
      "Wall time: 12.5 s\n"
     ]
    }
   ],
   "source": [
    "%%time\n",
    "path, dist = as_colony.solve(initial_state, tsp.successors, tsp.goal, tsp.add_generation)\n",
    "print(\"Rank-based Ant System: \", [p.current_node for p in path], dist)"
   ]
  },
  {
   "cell_type": "code",
   "execution_count": 64,
   "metadata": {},
   "outputs": [
    {
     "data": {
      "text/html": [
       "<div>\n",
       "<style scoped>\n",
       "    .dataframe tbody tr th:only-of-type {\n",
       "        vertical-align: middle;\n",
       "    }\n",
       "\n",
       "    .dataframe tbody tr th {\n",
       "        vertical-align: top;\n",
       "    }\n",
       "\n",
       "    .dataframe thead th {\n",
       "        text-align: right;\n",
       "    }\n",
       "</style>\n",
       "<table border=\"1\" class=\"dataframe\">\n",
       "  <thead>\n",
       "    <tr style=\"text-align: right;\">\n",
       "      <th></th>\n",
       "      <th>name</th>\n",
       "      <th>x</th>\n",
       "      <th>y</th>\n",
       "    </tr>\n",
       "  </thead>\n",
       "  <tbody>\n",
       "    <tr>\n",
       "      <th>0</th>\n",
       "      <td>A</td>\n",
       "      <td>69</td>\n",
       "      <td>52</td>\n",
       "    </tr>\n",
       "    <tr>\n",
       "      <th>1</th>\n",
       "      <td>B</td>\n",
       "      <td>50</td>\n",
       "      <td>2</td>\n",
       "    </tr>\n",
       "    <tr>\n",
       "      <th>2</th>\n",
       "      <td>C</td>\n",
       "      <td>8</td>\n",
       "      <td>60</td>\n",
       "    </tr>\n",
       "    <tr>\n",
       "      <th>3</th>\n",
       "      <td>D</td>\n",
       "      <td>31</td>\n",
       "      <td>74</td>\n",
       "    </tr>\n",
       "    <tr>\n",
       "      <th>4</th>\n",
       "      <td>E</td>\n",
       "      <td>60</td>\n",
       "      <td>26</td>\n",
       "    </tr>\n",
       "    <tr>\n",
       "      <th>5</th>\n",
       "      <td>F</td>\n",
       "      <td>40</td>\n",
       "      <td>7</td>\n",
       "    </tr>\n",
       "    <tr>\n",
       "      <th>6</th>\n",
       "      <td>G</td>\n",
       "      <td>55</td>\n",
       "      <td>72</td>\n",
       "    </tr>\n",
       "    <tr>\n",
       "      <th>7</th>\n",
       "      <td>H</td>\n",
       "      <td>33</td>\n",
       "      <td>82</td>\n",
       "    </tr>\n",
       "  </tbody>\n",
       "</table>\n",
       "</div>"
      ],
      "text/plain": [
       "  name   x   y\n",
       "0    A  69  52\n",
       "1    B  50   2\n",
       "2    C   8  60\n",
       "3    D  31  74\n",
       "4    E  60  26\n",
       "5    F  40   7\n",
       "6    G  55  72\n",
       "7    H  33  82"
      ]
     },
     "execution_count": 64,
     "metadata": {},
     "output_type": "execute_result"
    }
   ],
   "source": [
    "import pandas as pd\n",
    "\n",
    "df = pd.DataFrame(tsp.cities_to_dict().items(), columns=['name', 'coords'])\n",
    "df[['x', 'y']] = pd.DataFrame(df.coords.tolist(), index=df.index)\n",
    "df.drop(columns=['coords'], inplace=True)\n",
    "df"
   ]
  },
  {
   "cell_type": "code",
   "execution_count": 66,
   "metadata": {
    "ExecuteTime": {
     "end_time": "2020-11-02T01:01:21.941173Z",
     "start_time": "2020-11-02T01:01:18.135337Z"
    },
    "id": "fxGOSRrPRX2_"
   },
   "outputs": [
    {
     "data": {
      "application/vnd.plotly.v1+json": {
       "config": {
        "plotlyServerURL": "https://plot.ly"
       },
       "data": [
        {
         "marker": {
          "color": "#5D69B1",
          "size": 10
         },
         "mode": "markers",
         "name": "Город",
         "text": [
          "Название: A",
          "Название: B",
          "Название: C",
          "Название: D",
          "Название: E",
          "Название: F",
          "Название: G",
          "Название: H"
         ],
         "type": "scatter",
         "x": [
          69,
          50,
          8,
          31,
          60,
          40,
          55,
          33
         ],
         "y": [
          52,
          2,
          60,
          74,
          26,
          7,
          72,
          82
         ]
        },
        {
         "mode": "lines",
         "name": "Маршрут",
         "type": "scatter",
         "x": [
          69,
          55,
          33,
          31,
          8,
          40,
          50,
          60,
          69
         ],
         "y": [
          52,
          72,
          82,
          74,
          60,
          7,
          2,
          26,
          52
         ]
        }
       ],
       "frames": [
        {
         "data": [
          {
           "marker": {
            "color": "#5D69B1",
            "size": 10
           },
           "mode": "markers",
           "name": "Город",
           "text": [
            "Название: A",
            "Название: B",
            "Название: C",
            "Название: D",
            "Название: E",
            "Название: F",
            "Название: G",
            "Название: H"
           ],
           "type": "scatter",
           "x": [
            69,
            50,
            8,
            31,
            60,
            40,
            55,
            33
           ],
           "y": [
            52,
            2,
            60,
            74,
            26,
            7,
            72,
            82
           ]
          },
          {
           "mode": "lines",
           "name": "Маршрут",
           "type": "scatter",
           "x": [
            69,
            31,
            33,
            8,
            60,
            50,
            40,
            55,
            69
           ],
           "y": [
            52,
            74,
            82,
            60,
            26,
            2,
            7,
            72,
            52
           ]
          }
         ],
         "layout": {
          "title": {
           "text": "Маршрут, найденный муравьиным алгоритмом за 1 итерации"
          },
          "updatemenus": [
           {
            "buttons": [
             {
              "args": [
               null,
               {
                "frame": {
                 "duration": 180
                }
               }
              ],
              "label": "Запустить",
              "method": "animate"
             }
            ],
            "type": "buttons"
           }
          ]
         }
        },
        {
         "data": [
          {
           "marker": {
            "color": "#5D69B1",
            "size": 10
           },
           "mode": "markers",
           "name": "Город",
           "text": [
            "Название: A",
            "Название: B",
            "Название: C",
            "Название: D",
            "Название: E",
            "Название: F",
            "Название: G",
            "Название: H"
           ],
           "type": "scatter",
           "x": [
            69,
            50,
            8,
            31,
            60,
            40,
            55,
            33
           ],
           "y": [
            52,
            2,
            60,
            74,
            26,
            7,
            72,
            82
           ]
          },
          {
           "mode": "lines",
           "name": "Маршрут",
           "type": "scatter",
           "x": [
            69,
            55,
            31,
            33,
            8,
            60,
            50,
            40,
            69
           ],
           "y": [
            52,
            72,
            74,
            82,
            60,
            26,
            2,
            7,
            52
           ]
          }
         ],
         "layout": {
          "title": {
           "text": "Маршрут, найденный муравьиным алгоритмом за 2 итерации"
          },
          "updatemenus": [
           {
            "buttons": [
             {
              "args": [
               null,
               {
                "frame": {
                 "duration": 180
                }
               }
              ],
              "label": "Запустить",
              "method": "animate"
             }
            ],
            "type": "buttons"
           }
          ]
         }
        },
        {
         "data": [
          {
           "marker": {
            "color": "#5D69B1",
            "size": 10
           },
           "mode": "markers",
           "name": "Город",
           "text": [
            "Название: A",
            "Название: B",
            "Название: C",
            "Название: D",
            "Название: E",
            "Название: F",
            "Название: G",
            "Название: H"
           ],
           "type": "scatter",
           "x": [
            69,
            50,
            8,
            31,
            60,
            40,
            55,
            33
           ],
           "y": [
            52,
            2,
            60,
            74,
            26,
            7,
            72,
            82
           ]
          },
          {
           "mode": "lines",
           "name": "Маршрут",
           "type": "scatter",
           "x": [
            69,
            55,
            33,
            31,
            8,
            40,
            50,
            60,
            69
           ],
           "y": [
            52,
            72,
            82,
            74,
            60,
            7,
            2,
            26,
            52
           ]
          }
         ],
         "layout": {
          "title": {
           "text": "Маршрут, найденный муравьиным алгоритмом за 3 итерации"
          },
          "updatemenus": [
           {
            "buttons": [
             {
              "args": [
               null,
               {
                "frame": {
                 "duration": 180
                }
               }
              ],
              "label": "Запустить",
              "method": "animate"
             }
            ],
            "type": "buttons"
           }
          ]
         }
        }
       ],
       "layout": {
        "template": {
         "data": {
          "bar": [
           {
            "error_x": {
             "color": "#2a3f5f"
            },
            "error_y": {
             "color": "#2a3f5f"
            },
            "marker": {
             "line": {
              "color": "#E5ECF6",
              "width": 0.5
             },
             "pattern": {
              "fillmode": "overlay",
              "size": 10,
              "solidity": 0.2
             }
            },
            "type": "bar"
           }
          ],
          "barpolar": [
           {
            "marker": {
             "line": {
              "color": "#E5ECF6",
              "width": 0.5
             },
             "pattern": {
              "fillmode": "overlay",
              "size": 10,
              "solidity": 0.2
             }
            },
            "type": "barpolar"
           }
          ],
          "carpet": [
           {
            "aaxis": {
             "endlinecolor": "#2a3f5f",
             "gridcolor": "white",
             "linecolor": "white",
             "minorgridcolor": "white",
             "startlinecolor": "#2a3f5f"
            },
            "baxis": {
             "endlinecolor": "#2a3f5f",
             "gridcolor": "white",
             "linecolor": "white",
             "minorgridcolor": "white",
             "startlinecolor": "#2a3f5f"
            },
            "type": "carpet"
           }
          ],
          "choropleth": [
           {
            "colorbar": {
             "outlinewidth": 0,
             "ticks": ""
            },
            "type": "choropleth"
           }
          ],
          "contour": [
           {
            "colorbar": {
             "outlinewidth": 0,
             "ticks": ""
            },
            "colorscale": [
             [
              0,
              "#0d0887"
             ],
             [
              0.1111111111111111,
              "#46039f"
             ],
             [
              0.2222222222222222,
              "#7201a8"
             ],
             [
              0.3333333333333333,
              "#9c179e"
             ],
             [
              0.4444444444444444,
              "#bd3786"
             ],
             [
              0.5555555555555556,
              "#d8576b"
             ],
             [
              0.6666666666666666,
              "#ed7953"
             ],
             [
              0.7777777777777778,
              "#fb9f3a"
             ],
             [
              0.8888888888888888,
              "#fdca26"
             ],
             [
              1,
              "#f0f921"
             ]
            ],
            "type": "contour"
           }
          ],
          "contourcarpet": [
           {
            "colorbar": {
             "outlinewidth": 0,
             "ticks": ""
            },
            "type": "contourcarpet"
           }
          ],
          "heatmap": [
           {
            "colorbar": {
             "outlinewidth": 0,
             "ticks": ""
            },
            "colorscale": [
             [
              0,
              "#0d0887"
             ],
             [
              0.1111111111111111,
              "#46039f"
             ],
             [
              0.2222222222222222,
              "#7201a8"
             ],
             [
              0.3333333333333333,
              "#9c179e"
             ],
             [
              0.4444444444444444,
              "#bd3786"
             ],
             [
              0.5555555555555556,
              "#d8576b"
             ],
             [
              0.6666666666666666,
              "#ed7953"
             ],
             [
              0.7777777777777778,
              "#fb9f3a"
             ],
             [
              0.8888888888888888,
              "#fdca26"
             ],
             [
              1,
              "#f0f921"
             ]
            ],
            "type": "heatmap"
           }
          ],
          "heatmapgl": [
           {
            "colorbar": {
             "outlinewidth": 0,
             "ticks": ""
            },
            "colorscale": [
             [
              0,
              "#0d0887"
             ],
             [
              0.1111111111111111,
              "#46039f"
             ],
             [
              0.2222222222222222,
              "#7201a8"
             ],
             [
              0.3333333333333333,
              "#9c179e"
             ],
             [
              0.4444444444444444,
              "#bd3786"
             ],
             [
              0.5555555555555556,
              "#d8576b"
             ],
             [
              0.6666666666666666,
              "#ed7953"
             ],
             [
              0.7777777777777778,
              "#fb9f3a"
             ],
             [
              0.8888888888888888,
              "#fdca26"
             ],
             [
              1,
              "#f0f921"
             ]
            ],
            "type": "heatmapgl"
           }
          ],
          "histogram": [
           {
            "marker": {
             "pattern": {
              "fillmode": "overlay",
              "size": 10,
              "solidity": 0.2
             }
            },
            "type": "histogram"
           }
          ],
          "histogram2d": [
           {
            "colorbar": {
             "outlinewidth": 0,
             "ticks": ""
            },
            "colorscale": [
             [
              0,
              "#0d0887"
             ],
             [
              0.1111111111111111,
              "#46039f"
             ],
             [
              0.2222222222222222,
              "#7201a8"
             ],
             [
              0.3333333333333333,
              "#9c179e"
             ],
             [
              0.4444444444444444,
              "#bd3786"
             ],
             [
              0.5555555555555556,
              "#d8576b"
             ],
             [
              0.6666666666666666,
              "#ed7953"
             ],
             [
              0.7777777777777778,
              "#fb9f3a"
             ],
             [
              0.8888888888888888,
              "#fdca26"
             ],
             [
              1,
              "#f0f921"
             ]
            ],
            "type": "histogram2d"
           }
          ],
          "histogram2dcontour": [
           {
            "colorbar": {
             "outlinewidth": 0,
             "ticks": ""
            },
            "colorscale": [
             [
              0,
              "#0d0887"
             ],
             [
              0.1111111111111111,
              "#46039f"
             ],
             [
              0.2222222222222222,
              "#7201a8"
             ],
             [
              0.3333333333333333,
              "#9c179e"
             ],
             [
              0.4444444444444444,
              "#bd3786"
             ],
             [
              0.5555555555555556,
              "#d8576b"
             ],
             [
              0.6666666666666666,
              "#ed7953"
             ],
             [
              0.7777777777777778,
              "#fb9f3a"
             ],
             [
              0.8888888888888888,
              "#fdca26"
             ],
             [
              1,
              "#f0f921"
             ]
            ],
            "type": "histogram2dcontour"
           }
          ],
          "mesh3d": [
           {
            "colorbar": {
             "outlinewidth": 0,
             "ticks": ""
            },
            "type": "mesh3d"
           }
          ],
          "parcoords": [
           {
            "line": {
             "colorbar": {
              "outlinewidth": 0,
              "ticks": ""
             }
            },
            "type": "parcoords"
           }
          ],
          "pie": [
           {
            "automargin": true,
            "type": "pie"
           }
          ],
          "scatter": [
           {
            "fillpattern": {
             "fillmode": "overlay",
             "size": 10,
             "solidity": 0.2
            },
            "type": "scatter"
           }
          ],
          "scatter3d": [
           {
            "line": {
             "colorbar": {
              "outlinewidth": 0,
              "ticks": ""
             }
            },
            "marker": {
             "colorbar": {
              "outlinewidth": 0,
              "ticks": ""
             }
            },
            "type": "scatter3d"
           }
          ],
          "scattercarpet": [
           {
            "marker": {
             "colorbar": {
              "outlinewidth": 0,
              "ticks": ""
             }
            },
            "type": "scattercarpet"
           }
          ],
          "scattergeo": [
           {
            "marker": {
             "colorbar": {
              "outlinewidth": 0,
              "ticks": ""
             }
            },
            "type": "scattergeo"
           }
          ],
          "scattergl": [
           {
            "marker": {
             "colorbar": {
              "outlinewidth": 0,
              "ticks": ""
             }
            },
            "type": "scattergl"
           }
          ],
          "scattermapbox": [
           {
            "marker": {
             "colorbar": {
              "outlinewidth": 0,
              "ticks": ""
             }
            },
            "type": "scattermapbox"
           }
          ],
          "scatterpolar": [
           {
            "marker": {
             "colorbar": {
              "outlinewidth": 0,
              "ticks": ""
             }
            },
            "type": "scatterpolar"
           }
          ],
          "scatterpolargl": [
           {
            "marker": {
             "colorbar": {
              "outlinewidth": 0,
              "ticks": ""
             }
            },
            "type": "scatterpolargl"
           }
          ],
          "scatterternary": [
           {
            "marker": {
             "colorbar": {
              "outlinewidth": 0,
              "ticks": ""
             }
            },
            "type": "scatterternary"
           }
          ],
          "surface": [
           {
            "colorbar": {
             "outlinewidth": 0,
             "ticks": ""
            },
            "colorscale": [
             [
              0,
              "#0d0887"
             ],
             [
              0.1111111111111111,
              "#46039f"
             ],
             [
              0.2222222222222222,
              "#7201a8"
             ],
             [
              0.3333333333333333,
              "#9c179e"
             ],
             [
              0.4444444444444444,
              "#bd3786"
             ],
             [
              0.5555555555555556,
              "#d8576b"
             ],
             [
              0.6666666666666666,
              "#ed7953"
             ],
             [
              0.7777777777777778,
              "#fb9f3a"
             ],
             [
              0.8888888888888888,
              "#fdca26"
             ],
             [
              1,
              "#f0f921"
             ]
            ],
            "type": "surface"
           }
          ],
          "table": [
           {
            "cells": {
             "fill": {
              "color": "#EBF0F8"
             },
             "line": {
              "color": "white"
             }
            },
            "header": {
             "fill": {
              "color": "#C8D4E3"
             },
             "line": {
              "color": "white"
             }
            },
            "type": "table"
           }
          ]
         },
         "layout": {
          "annotationdefaults": {
           "arrowcolor": "#2a3f5f",
           "arrowhead": 0,
           "arrowwidth": 1
          },
          "autotypenumbers": "strict",
          "coloraxis": {
           "colorbar": {
            "outlinewidth": 0,
            "ticks": ""
           }
          },
          "colorscale": {
           "diverging": [
            [
             0,
             "#8e0152"
            ],
            [
             0.1,
             "#c51b7d"
            ],
            [
             0.2,
             "#de77ae"
            ],
            [
             0.3,
             "#f1b6da"
            ],
            [
             0.4,
             "#fde0ef"
            ],
            [
             0.5,
             "#f7f7f7"
            ],
            [
             0.6,
             "#e6f5d0"
            ],
            [
             0.7,
             "#b8e186"
            ],
            [
             0.8,
             "#7fbc41"
            ],
            [
             0.9,
             "#4d9221"
            ],
            [
             1,
             "#276419"
            ]
           ],
           "sequential": [
            [
             0,
             "#0d0887"
            ],
            [
             0.1111111111111111,
             "#46039f"
            ],
            [
             0.2222222222222222,
             "#7201a8"
            ],
            [
             0.3333333333333333,
             "#9c179e"
            ],
            [
             0.4444444444444444,
             "#bd3786"
            ],
            [
             0.5555555555555556,
             "#d8576b"
            ],
            [
             0.6666666666666666,
             "#ed7953"
            ],
            [
             0.7777777777777778,
             "#fb9f3a"
            ],
            [
             0.8888888888888888,
             "#fdca26"
            ],
            [
             1,
             "#f0f921"
            ]
           ],
           "sequentialminus": [
            [
             0,
             "#0d0887"
            ],
            [
             0.1111111111111111,
             "#46039f"
            ],
            [
             0.2222222222222222,
             "#7201a8"
            ],
            [
             0.3333333333333333,
             "#9c179e"
            ],
            [
             0.4444444444444444,
             "#bd3786"
            ],
            [
             0.5555555555555556,
             "#d8576b"
            ],
            [
             0.6666666666666666,
             "#ed7953"
            ],
            [
             0.7777777777777778,
             "#fb9f3a"
            ],
            [
             0.8888888888888888,
             "#fdca26"
            ],
            [
             1,
             "#f0f921"
            ]
           ]
          },
          "colorway": [
           "#636efa",
           "#EF553B",
           "#00cc96",
           "#ab63fa",
           "#FFA15A",
           "#19d3f3",
           "#FF6692",
           "#B6E880",
           "#FF97FF",
           "#FECB52"
          ],
          "font": {
           "color": "#2a3f5f"
          },
          "geo": {
           "bgcolor": "white",
           "lakecolor": "white",
           "landcolor": "#E5ECF6",
           "showlakes": true,
           "showland": true,
           "subunitcolor": "white"
          },
          "hoverlabel": {
           "align": "left"
          },
          "hovermode": "closest",
          "mapbox": {
           "style": "light"
          },
          "paper_bgcolor": "white",
          "plot_bgcolor": "#E5ECF6",
          "polar": {
           "angularaxis": {
            "gridcolor": "white",
            "linecolor": "white",
            "ticks": ""
           },
           "bgcolor": "#E5ECF6",
           "radialaxis": {
            "gridcolor": "white",
            "linecolor": "white",
            "ticks": ""
           }
          },
          "scene": {
           "xaxis": {
            "backgroundcolor": "#E5ECF6",
            "gridcolor": "white",
            "gridwidth": 2,
            "linecolor": "white",
            "showbackground": true,
            "ticks": "",
            "zerolinecolor": "white"
           },
           "yaxis": {
            "backgroundcolor": "#E5ECF6",
            "gridcolor": "white",
            "gridwidth": 2,
            "linecolor": "white",
            "showbackground": true,
            "ticks": "",
            "zerolinecolor": "white"
           },
           "zaxis": {
            "backgroundcolor": "#E5ECF6",
            "gridcolor": "white",
            "gridwidth": 2,
            "linecolor": "white",
            "showbackground": true,
            "ticks": "",
            "zerolinecolor": "white"
           }
          },
          "shapedefaults": {
           "line": {
            "color": "#2a3f5f"
           }
          },
          "ternary": {
           "aaxis": {
            "gridcolor": "white",
            "linecolor": "white",
            "ticks": ""
           },
           "baxis": {
            "gridcolor": "white",
            "linecolor": "white",
            "ticks": ""
           },
           "bgcolor": "#E5ECF6",
           "caxis": {
            "gridcolor": "white",
            "linecolor": "white",
            "ticks": ""
           }
          },
          "title": {
           "x": 0.05
          },
          "xaxis": {
           "automargin": true,
           "gridcolor": "white",
           "linecolor": "white",
           "ticks": "",
           "title": {
            "standoff": 15
           },
           "zerolinecolor": "white",
           "zerolinewidth": 2
          },
          "yaxis": {
           "automargin": true,
           "gridcolor": "white",
           "linecolor": "white",
           "ticks": "",
           "title": {
            "standoff": 15
           },
           "zerolinecolor": "white",
           "zerolinewidth": 2
          }
         }
        },
        "title": {
         "text": "Маршрут, найденный муравьиным алгоритмом за 3 итерации"
        },
        "updatemenus": [
         {
          "buttons": [
           {
            "args": [
             null,
             {
              "frame": {
               "duration": 180
              }
             }
            ],
            "label": "Запустить",
            "method": "animate"
           }
          ],
          "type": "buttons"
         }
        ]
       }
      },
      "text/html": [
       "<div>                            <div id=\"ad89fa46-cb7b-4641-adc6-1b695064c830\" class=\"plotly-graph-div\" style=\"height:525px; width:100%;\"></div>            <script type=\"text/javascript\">                require([\"plotly\"], function(Plotly) {                    window.PLOTLYENV=window.PLOTLYENV || {};                                    if (document.getElementById(\"ad89fa46-cb7b-4641-adc6-1b695064c830\")) {                    Plotly.newPlot(                        \"ad89fa46-cb7b-4641-adc6-1b695064c830\",                        [{\"marker\":{\"color\":\"#5D69B1\",\"size\":10},\"mode\":\"markers\",\"name\":\"\\u0413\\u043e\\u0440\\u043e\\u0434\",\"text\":[\"\\u041d\\u0430\\u0437\\u0432\\u0430\\u043d\\u0438\\u0435: A\",\"\\u041d\\u0430\\u0437\\u0432\\u0430\\u043d\\u0438\\u0435: B\",\"\\u041d\\u0430\\u0437\\u0432\\u0430\\u043d\\u0438\\u0435: C\",\"\\u041d\\u0430\\u0437\\u0432\\u0430\\u043d\\u0438\\u0435: D\",\"\\u041d\\u0430\\u0437\\u0432\\u0430\\u043d\\u0438\\u0435: E\",\"\\u041d\\u0430\\u0437\\u0432\\u0430\\u043d\\u0438\\u0435: F\",\"\\u041d\\u0430\\u0437\\u0432\\u0430\\u043d\\u0438\\u0435: G\",\"\\u041d\\u0430\\u0437\\u0432\\u0430\\u043d\\u0438\\u0435: H\"],\"x\":[69,50,8,31,60,40,55,33],\"y\":[52,2,60,74,26,7,72,82],\"type\":\"scatter\"},{\"mode\":\"lines\",\"name\":\"\\u041c\\u0430\\u0440\\u0448\\u0440\\u0443\\u0442\",\"x\":[69,55,33,31,8,40,50,60,69],\"y\":[52,72,82,74,60,7,2,26,52],\"type\":\"scatter\"}],                        {\"title\":{\"text\":\"\\u041c\\u0430\\u0440\\u0448\\u0440\\u0443\\u0442, \\u043d\\u0430\\u0439\\u0434\\u0435\\u043d\\u043d\\u044b\\u0439 \\u043c\\u0443\\u0440\\u0430\\u0432\\u044c\\u0438\\u043d\\u044b\\u043c \\u0430\\u043b\\u0433\\u043e\\u0440\\u0438\\u0442\\u043c\\u043e\\u043c \\u0437\\u0430 3 \\u0438\\u0442\\u0435\\u0440\\u0430\\u0446\\u0438\\u0438\"},\"updatemenus\":[{\"buttons\":[{\"args\":[null,{\"frame\":{\"duration\":180}}],\"label\":\"\\u0417\\u0430\\u043f\\u0443\\u0441\\u0442\\u0438\\u0442\\u044c\",\"method\":\"animate\"}],\"type\":\"buttons\"}],\"template\":{\"data\":{\"histogram2dcontour\":[{\"type\":\"histogram2dcontour\",\"colorbar\":{\"outlinewidth\":0,\"ticks\":\"\"},\"colorscale\":[[0.0,\"#0d0887\"],[0.1111111111111111,\"#46039f\"],[0.2222222222222222,\"#7201a8\"],[0.3333333333333333,\"#9c179e\"],[0.4444444444444444,\"#bd3786\"],[0.5555555555555556,\"#d8576b\"],[0.6666666666666666,\"#ed7953\"],[0.7777777777777778,\"#fb9f3a\"],[0.8888888888888888,\"#fdca26\"],[1.0,\"#f0f921\"]]}],\"choropleth\":[{\"type\":\"choropleth\",\"colorbar\":{\"outlinewidth\":0,\"ticks\":\"\"}}],\"histogram2d\":[{\"type\":\"histogram2d\",\"colorbar\":{\"outlinewidth\":0,\"ticks\":\"\"},\"colorscale\":[[0.0,\"#0d0887\"],[0.1111111111111111,\"#46039f\"],[0.2222222222222222,\"#7201a8\"],[0.3333333333333333,\"#9c179e\"],[0.4444444444444444,\"#bd3786\"],[0.5555555555555556,\"#d8576b\"],[0.6666666666666666,\"#ed7953\"],[0.7777777777777778,\"#fb9f3a\"],[0.8888888888888888,\"#fdca26\"],[1.0,\"#f0f921\"]]}],\"heatmap\":[{\"type\":\"heatmap\",\"colorbar\":{\"outlinewidth\":0,\"ticks\":\"\"},\"colorscale\":[[0.0,\"#0d0887\"],[0.1111111111111111,\"#46039f\"],[0.2222222222222222,\"#7201a8\"],[0.3333333333333333,\"#9c179e\"],[0.4444444444444444,\"#bd3786\"],[0.5555555555555556,\"#d8576b\"],[0.6666666666666666,\"#ed7953\"],[0.7777777777777778,\"#fb9f3a\"],[0.8888888888888888,\"#fdca26\"],[1.0,\"#f0f921\"]]}],\"heatmapgl\":[{\"type\":\"heatmapgl\",\"colorbar\":{\"outlinewidth\":0,\"ticks\":\"\"},\"colorscale\":[[0.0,\"#0d0887\"],[0.1111111111111111,\"#46039f\"],[0.2222222222222222,\"#7201a8\"],[0.3333333333333333,\"#9c179e\"],[0.4444444444444444,\"#bd3786\"],[0.5555555555555556,\"#d8576b\"],[0.6666666666666666,\"#ed7953\"],[0.7777777777777778,\"#fb9f3a\"],[0.8888888888888888,\"#fdca26\"],[1.0,\"#f0f921\"]]}],\"contourcarpet\":[{\"type\":\"contourcarpet\",\"colorbar\":{\"outlinewidth\":0,\"ticks\":\"\"}}],\"contour\":[{\"type\":\"contour\",\"colorbar\":{\"outlinewidth\":0,\"ticks\":\"\"},\"colorscale\":[[0.0,\"#0d0887\"],[0.1111111111111111,\"#46039f\"],[0.2222222222222222,\"#7201a8\"],[0.3333333333333333,\"#9c179e\"],[0.4444444444444444,\"#bd3786\"],[0.5555555555555556,\"#d8576b\"],[0.6666666666666666,\"#ed7953\"],[0.7777777777777778,\"#fb9f3a\"],[0.8888888888888888,\"#fdca26\"],[1.0,\"#f0f921\"]]}],\"surface\":[{\"type\":\"surface\",\"colorbar\":{\"outlinewidth\":0,\"ticks\":\"\"},\"colorscale\":[[0.0,\"#0d0887\"],[0.1111111111111111,\"#46039f\"],[0.2222222222222222,\"#7201a8\"],[0.3333333333333333,\"#9c179e\"],[0.4444444444444444,\"#bd3786\"],[0.5555555555555556,\"#d8576b\"],[0.6666666666666666,\"#ed7953\"],[0.7777777777777778,\"#fb9f3a\"],[0.8888888888888888,\"#fdca26\"],[1.0,\"#f0f921\"]]}],\"mesh3d\":[{\"type\":\"mesh3d\",\"colorbar\":{\"outlinewidth\":0,\"ticks\":\"\"}}],\"scatter\":[{\"fillpattern\":{\"fillmode\":\"overlay\",\"size\":10,\"solidity\":0.2},\"type\":\"scatter\"}],\"parcoords\":[{\"type\":\"parcoords\",\"line\":{\"colorbar\":{\"outlinewidth\":0,\"ticks\":\"\"}}}],\"scatterpolargl\":[{\"type\":\"scatterpolargl\",\"marker\":{\"colorbar\":{\"outlinewidth\":0,\"ticks\":\"\"}}}],\"bar\":[{\"error_x\":{\"color\":\"#2a3f5f\"},\"error_y\":{\"color\":\"#2a3f5f\"},\"marker\":{\"line\":{\"color\":\"#E5ECF6\",\"width\":0.5},\"pattern\":{\"fillmode\":\"overlay\",\"size\":10,\"solidity\":0.2}},\"type\":\"bar\"}],\"scattergeo\":[{\"type\":\"scattergeo\",\"marker\":{\"colorbar\":{\"outlinewidth\":0,\"ticks\":\"\"}}}],\"scatterpolar\":[{\"type\":\"scatterpolar\",\"marker\":{\"colorbar\":{\"outlinewidth\":0,\"ticks\":\"\"}}}],\"histogram\":[{\"marker\":{\"pattern\":{\"fillmode\":\"overlay\",\"size\":10,\"solidity\":0.2}},\"type\":\"histogram\"}],\"scattergl\":[{\"type\":\"scattergl\",\"marker\":{\"colorbar\":{\"outlinewidth\":0,\"ticks\":\"\"}}}],\"scatter3d\":[{\"type\":\"scatter3d\",\"line\":{\"colorbar\":{\"outlinewidth\":0,\"ticks\":\"\"}},\"marker\":{\"colorbar\":{\"outlinewidth\":0,\"ticks\":\"\"}}}],\"scattermapbox\":[{\"type\":\"scattermapbox\",\"marker\":{\"colorbar\":{\"outlinewidth\":0,\"ticks\":\"\"}}}],\"scatterternary\":[{\"type\":\"scatterternary\",\"marker\":{\"colorbar\":{\"outlinewidth\":0,\"ticks\":\"\"}}}],\"scattercarpet\":[{\"type\":\"scattercarpet\",\"marker\":{\"colorbar\":{\"outlinewidth\":0,\"ticks\":\"\"}}}],\"carpet\":[{\"aaxis\":{\"endlinecolor\":\"#2a3f5f\",\"gridcolor\":\"white\",\"linecolor\":\"white\",\"minorgridcolor\":\"white\",\"startlinecolor\":\"#2a3f5f\"},\"baxis\":{\"endlinecolor\":\"#2a3f5f\",\"gridcolor\":\"white\",\"linecolor\":\"white\",\"minorgridcolor\":\"white\",\"startlinecolor\":\"#2a3f5f\"},\"type\":\"carpet\"}],\"table\":[{\"cells\":{\"fill\":{\"color\":\"#EBF0F8\"},\"line\":{\"color\":\"white\"}},\"header\":{\"fill\":{\"color\":\"#C8D4E3\"},\"line\":{\"color\":\"white\"}},\"type\":\"table\"}],\"barpolar\":[{\"marker\":{\"line\":{\"color\":\"#E5ECF6\",\"width\":0.5},\"pattern\":{\"fillmode\":\"overlay\",\"size\":10,\"solidity\":0.2}},\"type\":\"barpolar\"}],\"pie\":[{\"automargin\":true,\"type\":\"pie\"}]},\"layout\":{\"autotypenumbers\":\"strict\",\"colorway\":[\"#636efa\",\"#EF553B\",\"#00cc96\",\"#ab63fa\",\"#FFA15A\",\"#19d3f3\",\"#FF6692\",\"#B6E880\",\"#FF97FF\",\"#FECB52\"],\"font\":{\"color\":\"#2a3f5f\"},\"hovermode\":\"closest\",\"hoverlabel\":{\"align\":\"left\"},\"paper_bgcolor\":\"white\",\"plot_bgcolor\":\"#E5ECF6\",\"polar\":{\"bgcolor\":\"#E5ECF6\",\"angularaxis\":{\"gridcolor\":\"white\",\"linecolor\":\"white\",\"ticks\":\"\"},\"radialaxis\":{\"gridcolor\":\"white\",\"linecolor\":\"white\",\"ticks\":\"\"}},\"ternary\":{\"bgcolor\":\"#E5ECF6\",\"aaxis\":{\"gridcolor\":\"white\",\"linecolor\":\"white\",\"ticks\":\"\"},\"baxis\":{\"gridcolor\":\"white\",\"linecolor\":\"white\",\"ticks\":\"\"},\"caxis\":{\"gridcolor\":\"white\",\"linecolor\":\"white\",\"ticks\":\"\"}},\"coloraxis\":{\"colorbar\":{\"outlinewidth\":0,\"ticks\":\"\"}},\"colorscale\":{\"sequential\":[[0.0,\"#0d0887\"],[0.1111111111111111,\"#46039f\"],[0.2222222222222222,\"#7201a8\"],[0.3333333333333333,\"#9c179e\"],[0.4444444444444444,\"#bd3786\"],[0.5555555555555556,\"#d8576b\"],[0.6666666666666666,\"#ed7953\"],[0.7777777777777778,\"#fb9f3a\"],[0.8888888888888888,\"#fdca26\"],[1.0,\"#f0f921\"]],\"sequentialminus\":[[0.0,\"#0d0887\"],[0.1111111111111111,\"#46039f\"],[0.2222222222222222,\"#7201a8\"],[0.3333333333333333,\"#9c179e\"],[0.4444444444444444,\"#bd3786\"],[0.5555555555555556,\"#d8576b\"],[0.6666666666666666,\"#ed7953\"],[0.7777777777777778,\"#fb9f3a\"],[0.8888888888888888,\"#fdca26\"],[1.0,\"#f0f921\"]],\"diverging\":[[0,\"#8e0152\"],[0.1,\"#c51b7d\"],[0.2,\"#de77ae\"],[0.3,\"#f1b6da\"],[0.4,\"#fde0ef\"],[0.5,\"#f7f7f7\"],[0.6,\"#e6f5d0\"],[0.7,\"#b8e186\"],[0.8,\"#7fbc41\"],[0.9,\"#4d9221\"],[1,\"#276419\"]]},\"xaxis\":{\"gridcolor\":\"white\",\"linecolor\":\"white\",\"ticks\":\"\",\"title\":{\"standoff\":15},\"zerolinecolor\":\"white\",\"automargin\":true,\"zerolinewidth\":2},\"yaxis\":{\"gridcolor\":\"white\",\"linecolor\":\"white\",\"ticks\":\"\",\"title\":{\"standoff\":15},\"zerolinecolor\":\"white\",\"automargin\":true,\"zerolinewidth\":2},\"scene\":{\"xaxis\":{\"backgroundcolor\":\"#E5ECF6\",\"gridcolor\":\"white\",\"linecolor\":\"white\",\"showbackground\":true,\"ticks\":\"\",\"zerolinecolor\":\"white\",\"gridwidth\":2},\"yaxis\":{\"backgroundcolor\":\"#E5ECF6\",\"gridcolor\":\"white\",\"linecolor\":\"white\",\"showbackground\":true,\"ticks\":\"\",\"zerolinecolor\":\"white\",\"gridwidth\":2},\"zaxis\":{\"backgroundcolor\":\"#E5ECF6\",\"gridcolor\":\"white\",\"linecolor\":\"white\",\"showbackground\":true,\"ticks\":\"\",\"zerolinecolor\":\"white\",\"gridwidth\":2}},\"shapedefaults\":{\"line\":{\"color\":\"#2a3f5f\"}},\"annotationdefaults\":{\"arrowcolor\":\"#2a3f5f\",\"arrowhead\":0,\"arrowwidth\":1},\"geo\":{\"bgcolor\":\"white\",\"landcolor\":\"#E5ECF6\",\"subunitcolor\":\"white\",\"showland\":true,\"showlakes\":true,\"lakecolor\":\"white\"},\"title\":{\"x\":0.05},\"mapbox\":{\"style\":\"light\"}}}},                        {\"responsive\": true}                    ).then(function(){\n",
       "                            Plotly.addFrames('ad89fa46-cb7b-4641-adc6-1b695064c830', [{\"data\":[{\"marker\":{\"color\":\"#5D69B1\",\"size\":10},\"mode\":\"markers\",\"name\":\"\\u0413\\u043e\\u0440\\u043e\\u0434\",\"text\":[\"\\u041d\\u0430\\u0437\\u0432\\u0430\\u043d\\u0438\\u0435: A\",\"\\u041d\\u0430\\u0437\\u0432\\u0430\\u043d\\u0438\\u0435: B\",\"\\u041d\\u0430\\u0437\\u0432\\u0430\\u043d\\u0438\\u0435: C\",\"\\u041d\\u0430\\u0437\\u0432\\u0430\\u043d\\u0438\\u0435: D\",\"\\u041d\\u0430\\u0437\\u0432\\u0430\\u043d\\u0438\\u0435: E\",\"\\u041d\\u0430\\u0437\\u0432\\u0430\\u043d\\u0438\\u0435: F\",\"\\u041d\\u0430\\u0437\\u0432\\u0430\\u043d\\u0438\\u0435: G\",\"\\u041d\\u0430\\u0437\\u0432\\u0430\\u043d\\u0438\\u0435: H\"],\"x\":[69,50,8,31,60,40,55,33],\"y\":[52,2,60,74,26,7,72,82],\"type\":\"scatter\"},{\"mode\":\"lines\",\"name\":\"\\u041c\\u0430\\u0440\\u0448\\u0440\\u0443\\u0442\",\"x\":[69,31,33,8,60,50,40,55,69],\"y\":[52,74,82,60,26,2,7,72,52],\"type\":\"scatter\"}],\"layout\":{\"title\":{\"text\":\"\\u041c\\u0430\\u0440\\u0448\\u0440\\u0443\\u0442, \\u043d\\u0430\\u0439\\u0434\\u0435\\u043d\\u043d\\u044b\\u0439 \\u043c\\u0443\\u0440\\u0430\\u0432\\u044c\\u0438\\u043d\\u044b\\u043c \\u0430\\u043b\\u0433\\u043e\\u0440\\u0438\\u0442\\u043c\\u043e\\u043c \\u0437\\u0430 1 \\u0438\\u0442\\u0435\\u0440\\u0430\\u0446\\u0438\\u0438\"},\"updatemenus\":[{\"buttons\":[{\"args\":[null,{\"frame\":{\"duration\":180}}],\"label\":\"\\u0417\\u0430\\u043f\\u0443\\u0441\\u0442\\u0438\\u0442\\u044c\",\"method\":\"animate\"}],\"type\":\"buttons\"}]}},{\"data\":[{\"marker\":{\"color\":\"#5D69B1\",\"size\":10},\"mode\":\"markers\",\"name\":\"\\u0413\\u043e\\u0440\\u043e\\u0434\",\"text\":[\"\\u041d\\u0430\\u0437\\u0432\\u0430\\u043d\\u0438\\u0435: A\",\"\\u041d\\u0430\\u0437\\u0432\\u0430\\u043d\\u0438\\u0435: B\",\"\\u041d\\u0430\\u0437\\u0432\\u0430\\u043d\\u0438\\u0435: C\",\"\\u041d\\u0430\\u0437\\u0432\\u0430\\u043d\\u0438\\u0435: D\",\"\\u041d\\u0430\\u0437\\u0432\\u0430\\u043d\\u0438\\u0435: E\",\"\\u041d\\u0430\\u0437\\u0432\\u0430\\u043d\\u0438\\u0435: F\",\"\\u041d\\u0430\\u0437\\u0432\\u0430\\u043d\\u0438\\u0435: G\",\"\\u041d\\u0430\\u0437\\u0432\\u0430\\u043d\\u0438\\u0435: H\"],\"x\":[69,50,8,31,60,40,55,33],\"y\":[52,2,60,74,26,7,72,82],\"type\":\"scatter\"},{\"mode\":\"lines\",\"name\":\"\\u041c\\u0430\\u0440\\u0448\\u0440\\u0443\\u0442\",\"x\":[69,55,31,33,8,60,50,40,69],\"y\":[52,72,74,82,60,26,2,7,52],\"type\":\"scatter\"}],\"layout\":{\"title\":{\"text\":\"\\u041c\\u0430\\u0440\\u0448\\u0440\\u0443\\u0442, \\u043d\\u0430\\u0439\\u0434\\u0435\\u043d\\u043d\\u044b\\u0439 \\u043c\\u0443\\u0440\\u0430\\u0432\\u044c\\u0438\\u043d\\u044b\\u043c \\u0430\\u043b\\u0433\\u043e\\u0440\\u0438\\u0442\\u043c\\u043e\\u043c \\u0437\\u0430 2 \\u0438\\u0442\\u0435\\u0440\\u0430\\u0446\\u0438\\u0438\"},\"updatemenus\":[{\"buttons\":[{\"args\":[null,{\"frame\":{\"duration\":180}}],\"label\":\"\\u0417\\u0430\\u043f\\u0443\\u0441\\u0442\\u0438\\u0442\\u044c\",\"method\":\"animate\"}],\"type\":\"buttons\"}]}},{\"data\":[{\"marker\":{\"color\":\"#5D69B1\",\"size\":10},\"mode\":\"markers\",\"name\":\"\\u0413\\u043e\\u0440\\u043e\\u0434\",\"text\":[\"\\u041d\\u0430\\u0437\\u0432\\u0430\\u043d\\u0438\\u0435: A\",\"\\u041d\\u0430\\u0437\\u0432\\u0430\\u043d\\u0438\\u0435: B\",\"\\u041d\\u0430\\u0437\\u0432\\u0430\\u043d\\u0438\\u0435: C\",\"\\u041d\\u0430\\u0437\\u0432\\u0430\\u043d\\u0438\\u0435: D\",\"\\u041d\\u0430\\u0437\\u0432\\u0430\\u043d\\u0438\\u0435: E\",\"\\u041d\\u0430\\u0437\\u0432\\u0430\\u043d\\u0438\\u0435: F\",\"\\u041d\\u0430\\u0437\\u0432\\u0430\\u043d\\u0438\\u0435: G\",\"\\u041d\\u0430\\u0437\\u0432\\u0430\\u043d\\u0438\\u0435: H\"],\"x\":[69,50,8,31,60,40,55,33],\"y\":[52,2,60,74,26,7,72,82],\"type\":\"scatter\"},{\"mode\":\"lines\",\"name\":\"\\u041c\\u0430\\u0440\\u0448\\u0440\\u0443\\u0442\",\"x\":[69,55,33,31,8,40,50,60,69],\"y\":[52,72,82,74,60,7,2,26,52],\"type\":\"scatter\"}],\"layout\":{\"title\":{\"text\":\"\\u041c\\u0430\\u0440\\u0448\\u0440\\u0443\\u0442, \\u043d\\u0430\\u0439\\u0434\\u0435\\u043d\\u043d\\u044b\\u0439 \\u043c\\u0443\\u0440\\u0430\\u0432\\u044c\\u0438\\u043d\\u044b\\u043c \\u0430\\u043b\\u0433\\u043e\\u0440\\u0438\\u0442\\u043c\\u043e\\u043c \\u0437\\u0430 3 \\u0438\\u0442\\u0435\\u0440\\u0430\\u0446\\u0438\\u0438\"},\"updatemenus\":[{\"buttons\":[{\"args\":[null,{\"frame\":{\"duration\":180}}],\"label\":\"\\u0417\\u0430\\u043f\\u0443\\u0441\\u0442\\u0438\\u0442\\u044c\",\"method\":\"animate\"}],\"type\":\"buttons\"}]}}]);\n",
       "                        }).then(function(){\n",
       "                            \n",
       "var gd = document.getElementById('ad89fa46-cb7b-4641-adc6-1b695064c830');\n",
       "var x = new MutationObserver(function (mutations, observer) {{\n",
       "        var display = window.getComputedStyle(gd).display;\n",
       "        if (!display || display === 'none') {{\n",
       "            console.log([gd, 'removed!']);\n",
       "            Plotly.purge(gd);\n",
       "            observer.disconnect();\n",
       "        }}\n",
       "}});\n",
       "\n",
       "// Listen for the removal of the full notebook cells\n",
       "var notebookContainer = gd.closest('#notebook-container');\n",
       "if (notebookContainer) {{\n",
       "    x.observe(notebookContainer, {childList: true});\n",
       "}}\n",
       "\n",
       "// Listen for the clearing of the current output cell\n",
       "var outputEl = gd.closest('.output');\n",
       "if (outputEl) {{\n",
       "    x.observe(outputEl, {childList: true});\n",
       "}}\n",
       "\n",
       "                        })                };                });            </script>        </div>"
      ]
     },
     "metadata": {},
     "output_type": "display_data"
    }
   ],
   "source": [
    "import plotly.graph_objects as go\n",
    "\n",
    "points = go.Scatter(x=df['x'], y=df['y'], mode='markers',\n",
    "                    marker=dict(color='#5D69B1', size=10), name='Город',\n",
    "                    text = [\"Название: {}\".format(name) for name in df['name'] ])\n",
    "\n",
    "paths_history = tsp.get_solution_in_generations()\n",
    "generations = len(paths_history)\n",
    "\n",
    "path = go.Scatter(x=paths_history[generations - 1][0], y=paths_history[generations - 1][1], \n",
    "                  mode='lines', name=\"Маршрут\")\n",
    "\n",
    "button = {\n",
    "        \"type\": \"buttons\",\n",
    "        \"buttons\": [\n",
    "            {\n",
    "                \"label\": \"Запустить\",\n",
    "                \"method\": \"animate\",\n",
    "                \"args\": [None, {\"frame\": {\"duration\": 180}}],\n",
    "            }\n",
    "        ],\n",
    "    }\n",
    "\n",
    "frames = []\n",
    "for generation in range(generations):\n",
    "    path = go.Scatter(x=paths_history[generation][0], y=paths_history[generation][1], \n",
    "                      mode='lines', name=\"Маршрут\")\n",
    "    layout = go.Layout(updatemenus=[button], \n",
    "                       title_text=f\"Маршрут, найденный муравьиным алгоритмом за {generation + 1} итерации\")\n",
    "    frame = go.Frame(data=[points, path], layout=layout)\n",
    "    frames.append(frame)\n",
    "\n",
    "\n",
    "fig = go.Figure(data=[points, path], frames=frames, layout=layout)\n",
    "fig.show()"
   ]
  },
  {
   "cell_type": "code",
   "execution_count": null,
   "metadata": {},
   "outputs": [],
   "source": []
  }
 ],
 "metadata": {
  "colab": {
   "collapsed_sections": [],
   "provenance": []
  },
  "hide_input": false,
  "kernelspec": {
   "display_name": "Python 3 (ipykernel)",
   "language": "python",
   "name": "python3"
  },
  "language_info": {
   "codemirror_mode": {
    "name": "ipython",
    "version": 3
   },
   "file_extension": ".py",
   "mimetype": "text/x-python",
   "name": "python",
   "nbconvert_exporter": "python",
   "pygments_lexer": "ipython3",
   "version": "3.8.10"
  },
  "varInspector": {
   "cols": {
    "lenName": 16,
    "lenType": 16,
    "lenVar": 40
   },
   "kernels_config": {
    "python": {
     "delete_cmd_postfix": "",
     "delete_cmd_prefix": "del ",
     "library": "var_list.py",
     "varRefreshCmd": "print(var_dic_list())"
    },
    "r": {
     "delete_cmd_postfix": ") ",
     "delete_cmd_prefix": "rm(",
     "library": "var_list.r",
     "varRefreshCmd": "cat(var_dic_list()) "
    }
   },
   "types_to_exclude": [
    "module",
    "function",
    "builtin_function_or_method",
    "instance",
    "_Feature"
   ],
   "window_display": false
  }
 },
 "nbformat": 4,
 "nbformat_minor": 1
}
